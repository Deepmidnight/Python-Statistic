{
  "nbformat": 4,
  "nbformat_minor": 0,
  "metadata": {
    "colab": {
      "provenance": [],
      "authorship_tag": "ABX9TyPJM/0BYNpj/Rjb3FPRNUnX",
      "include_colab_link": true
    },
    "kernelspec": {
      "name": "python3",
      "display_name": "Python 3"
    },
    "language_info": {
      "name": "python"
    }
  },
  "cells": [
    {
      "cell_type": "markdown",
      "metadata": {
        "id": "view-in-github",
        "colab_type": "text"
      },
      "source": [
        "<a href=\"https://colab.research.google.com/github/Deepmidnight/Midnight_nebula/blob/main/%C2%AB%D0%A1%D0%BB%D1%83%D1%87%D0%B0%D0%B9%D0%BD%D1%8B%D0%B5_%D1%81%D0%BE%D0%B1%D1%8B%D1%82%D0%B8%D1%8F_%D0%A1%D0%BB%D1%83%D1%87%D0%B0%D0%B9%D0%BD%D1%8B%D0%B5_%D0%B2%D0%B5%D0%BB%D0%B8%D1%87%D0%B8%D0%BD%D1%8B%C2%BB.ipynb\" target=\"_parent\"><img src=\"https://colab.research.google.com/assets/colab-badge.svg\" alt=\"Open In Colab\"/></a>"
      ]
    },
    {
      "cell_type": "markdown",
      "source": [
        "Домашнее задание к лекции «Случайные события. Случайные величины»\n",
        "\n",
        "Смоделировать игру против лотерейного автомата типа “777”. Игрок платит 1 руб., после чего выпадает случайное целое число, равномерно распределенное от 0 до 999. При некоторых значениях числа игрок получает выигрыш.\n",
        "\n",
        "777: 200 руб.\n",
        "\n",
        "999: 100 руб.\n",
        "\n",
        "555: 50 руб.\n",
        "\n",
        "333: 15 руб.\n",
        "\n",
        "111: 10 руб.\n",
        "\n",
        "*77: 5 руб.\n",
        "\n",
        "**7: 3 руб.\n",
        "\n",
        "*00: 2 руб.\n",
        "\n",
        "**0: 1 руб.\n",
        "\n",
        "Вопросы:\n",
        "\n",
        "Выгодна ли игра игроку?\n",
        "Сколько в среднем приобретает или теряет игрок за одну игру?\n",
        "\n",
        "**Дополнительное задание повышенной сложности. **\n",
        "\n",
        "Теоретически рассчитать средний выигрыш (проигрыш) и сравнить с результатами моделирования\n",
        "\n",
        "– любая цифра"
      ],
      "metadata": {
        "id": "RoGQPp_u2mbG"
      }
    },
    {
      "cell_type": "code",
      "source": [
        "import numpy as np"
      ],
      "metadata": {
        "id": "DgV2eRSG2oVW"
      },
      "execution_count": 36,
      "outputs": []
    },
    {
      "cell_type": "code",
      "source": [
        "attempt = 1000000    # Количество попыток,\n",
        "result = 0       # Количество результатов,\n",
        "results_list = []\n",
        "   \n",
        "for i in range(attempt):\n",
        "  random_value = np.random.randint(0, 1000)    # Случайное число от 0 до 999\n",
        "  if random_value == 999:\n",
        "    results_list.append(100)\n",
        "  elif random_value == 777:\n",
        "    results_list.append(200)\n",
        "  elif random_value == 555:\n",
        "    results_list.append(50)\n",
        "  elif random_value == 333:\n",
        "    results_list.append(15)\n",
        "  elif random_value == 111:\n",
        "    results_list.append(10)\n",
        "  elif random_value % 100 == 77:\n",
        "    results_list.append(5)\n",
        "  elif random_value % 10 == 7:\n",
        "    results_list.append(3)\n",
        "  elif random_value % 100 == 0:\n",
        "    results_list.append(2)\n",
        "  elif random_value % 10 == 0:\n",
        "    results_list.append(1)\n",
        "  else:\n",
        "    result += 1\n",
        "profit = sum(results_list) - attempt\n",
        "if profit > 0:\n",
        "    print('Игра выгодна. C вложенных', attempt, 'руб. выигрыш составляет:', profit, 'руб.')\n",
        "else:\n",
        "    print('Игра не выгодна. C вложенных', attempt, 'руб. проигрыш составляет:', profit, 'руб.')"
      ],
      "metadata": {
        "colab": {
          "base_uri": "https://localhost:8080/"
        },
        "id": "_6t3OyMG3Pil",
        "outputId": "9dde970f-d3e4-4643-a92e-b69ec4569456"
      },
      "execution_count": 37,
      "outputs": [
        {
          "output_type": "stream",
          "name": "stdout",
          "text": [
            "Игра не выгодна. C вложенных 1000000 руб. проигрыш составляет: -205955 руб.\n"
          ]
        }
      ]
    },
    {
      "cell_type": "code",
      "source": [
        "games = 100      # Количество игр\n",
        "profit = 0      # Количество прибыли от игры\n",
        "profit_list = []\n",
        "\n",
        "for x in range(games):\n",
        "    attempts = 5000    # Количество попыток\n",
        "    result = 0       # Количество результатов\n",
        "    results_list = []\n",
        "    for i in range(attempts):\n",
        "      random_value = np.random.randint(0, 1000)    # Случайное число от 0 до 999\n",
        "      if random_value == 999:\n",
        "        results_list.append(100)\n",
        "      elif random_value == 777:\n",
        "        results_list.append(200)\n",
        "      elif random_value == 555:\n",
        "        results_list.append(50)\n",
        "      elif random_value == 333:\n",
        "        results_list.append(15)\n",
        "      elif random_value == 111:\n",
        "        results_list.append(10)\n",
        "      elif random_value % 100 == 77:\n",
        "        results_list.append(5)\n",
        "      elif random_value % 10 == 7:\n",
        "        results_list.append(3)\n",
        "      elif random_value % 100 == 0:\n",
        "        results_list.append(2)\n",
        "      elif random_value % 10 == 0:\n",
        "        results_list.append(1)\n",
        "      else:\n",
        "        results_list.append(0)\n",
        "    result += 1\n",
        "    profit = sum(results_list) - attempts\n",
        "    profit_list.append(profit)\n",
        "    profit += 1\n",
        "average_profit = round(sum(profit_list) / games)\n",
        "if average_profit > 0:\n",
        "  print('Игра, выгодна. C вложенных', attempts, 'руб. выигрыш составляет:', average_profit, 'руб.')\n",
        "else:\n",
        "  print('Игра, не выгодна. C вложенных', attempts, 'руб. проигрыш составляет:', average_profit, 'руб.')"
      ],
      "metadata": {
        "colab": {
          "base_uri": "https://localhost:8080/"
        },
        "id": "BAnZgKqu6lw8",
        "outputId": "94b4486b-0e67-4b70-bc17-8630e7ab37e1"
      },
      "execution_count": 38,
      "outputs": [
        {
          "output_type": "stream",
          "name": "stdout",
          "text": [
            "Игра, не выгодна. C вложенных 5000 руб. проигрыш составляет: -922 руб.\n"
          ]
        }
      ]
    },
    {
      "cell_type": "code",
      "source": [
        "# Расчётный средний проигрыш\n",
        "average_loss = 0.001*(200 + 100 + 50 + 15 + 10) + (9/1000)*5 + (10/1000)*2 + ((99-9)/1000)*3 + ((100-10)/1000)*1\n",
        "average_loss"
      ],
      "metadata": {
        "colab": {
          "base_uri": "https://localhost:8080/"
        },
        "id": "akMl_K6MBKXL",
        "outputId": "e622032f-fb18-4330-af73-f0094a21a15c"
      },
      "execution_count": 39,
      "outputs": [
        {
          "output_type": "execute_result",
          "data": {
            "text/plain": [
              "0.7999999999999999"
            ]
          },
          "metadata": {},
          "execution_count": 39
        }
      ]
    }
  ]
}
