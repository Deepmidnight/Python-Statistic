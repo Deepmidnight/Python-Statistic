{
  "nbformat": 4,
  "nbformat_minor": 0,
  "metadata": {
    "colab": {
      "provenance": [],
      "authorship_tag": "ABX9TyMgZamJbfJxaaoKOm3WWBK/",
      "include_colab_link": true
    },
    "kernelspec": {
      "name": "python3",
      "display_name": "Python 3"
    },
    "language_info": {
      "name": "python"
    }
  },
  "cells": [
    {
      "cell_type": "markdown",
      "metadata": {
        "id": "view-in-github",
        "colab_type": "text"
      },
      "source": [
        "<a href=\"https://colab.research.google.com/github/Deepmidnight/Midnight_nebula/blob/main/%D0%94%D0%BE%D0%BC%D0%B0%D1%88%D0%BD%D0%B5%D0%B5_%D0%B7%D0%B0%D0%B4%D0%B0%D0%BD%D0%B8%D0%B5_%D0%BA_%D0%BB%D0%B5%D0%BA%D1%86%D0%B8%D0%B8_%C2%AB%D0%91%D0%B0%D0%B7%D0%BE%D0%B2%D1%8B%D0%B5_%D0%BF%D0%BE%D0%BD%D1%8F%D1%82%D0%B8%D1%8F_%D1%81%D1%82%D0%B0%D1%82%D0%B8%D1%81%D1%82%D0%B8%D0%BA%D0%B8%C2%BB.ipynb\" target=\"_parent\"><img src=\"https://colab.research.google.com/assets/colab-badge.svg\" alt=\"Open In Colab\"/></a>"
      ]
    },
    {
      "cell_type": "markdown",
      "source": [
        "Задание 1. Загрузка данных\n",
        "Изучить представленный набор данных на основе описания его столбцов, загрузить его и оставить 8 столбцов для дальнейшего изучения: surgery?, Age, rectal temperature, pulse, respiratory rate, temperature of extremities, pain, outcome."
      ],
      "metadata": {
        "id": "v_vuerCDOZMA"
      }
    },
    {
      "cell_type": "code",
      "source": [
        "import pandas as pd\n",
        "import numpy as np"
      ],
      "metadata": {
        "id": "7skXeUJjsRKb"
      },
      "execution_count": null,
      "outputs": []
    },
    {
      "cell_type": "code",
      "source": [
        "column_names = ['surgery', 'Age', 'Hospital Number', 'rectal temperature', 'pulse', 'respiratory rate', 'temperature of extremities', \n",
        "                'peripheral pulse', 'mucous membranes', 'capillary refill time', 'pain', 'peristalsis', 'abdominal distension', \n",
        "                'nasogastric tube', 'nasogastric reflux', 'nasogastric reflux PH', 'rectal examination', 'abdomen', 'packed cell volume', \n",
        "                'total protein', 'abdominocentesis appearance', 'abdomcentesis total protein', 'outcome', 'surgical lesion?', 'type of lesion1', \n",
        "                'type of lesion2', 'type of lesion3', 'cp_data']\n",
        "df=pd.read_csv(\"horse_data.csv\", sep = ',', na_values='?', names=column_names)"
      ],
      "metadata": {
        "id": "cVBn-XsPyHub"
      },
      "execution_count": null,
      "outputs": []
    },
    {
      "cell_type": "code",
      "source": [
        "df_filter=df[['surgery',\t'Age',\t'rectal temperature',\t'pulse',\t'respiratory rate',\t'temperature of extremities',\t'pain',\t'outcome']]\n",
        "df_filter.info()"
      ],
      "metadata": {
        "colab": {
          "base_uri": "https://localhost:8080/"
        },
        "id": "yAIgXcrJivy8",
        "outputId": "d22eeb86-8362-4c71-bdd9-ed45f231279f"
      },
      "execution_count": null,
      "outputs": [
        {
          "output_type": "stream",
          "name": "stdout",
          "text": [
            "<class 'pandas.core.frame.DataFrame'>\n",
            "RangeIndex: 300 entries, 0 to 299\n",
            "Data columns (total 8 columns):\n",
            " #   Column                      Non-Null Count  Dtype  \n",
            "---  ------                      --------------  -----  \n",
            " 0   surgery                     299 non-null    float64\n",
            " 1   Age                         300 non-null    int64  \n",
            " 2   rectal temperature          240 non-null    float64\n",
            " 3   pulse                       276 non-null    float64\n",
            " 4   respiratory rate            242 non-null    float64\n",
            " 5   temperature of extremities  244 non-null    float64\n",
            " 6   pain                        245 non-null    float64\n",
            " 7   outcome                     299 non-null    float64\n",
            "dtypes: float64(7), int64(1)\n",
            "memory usage: 18.9 KB\n"
          ]
        }
      ]
    },
    {
      "cell_type": "markdown",
      "source": [
        "Задание 2. Первичное изучение данных\n",
        "Проанализировать значения по столбцам, рассчитать базовые статистики, найти выбросы."
      ],
      "metadata": {
        "id": "Vl_AszLSOU3f"
      }
    },
    {
      "cell_type": "code",
      "source": [
        "# Уникальные значения столбцов\n",
        "print(df_filter['surgery'].unique())\n",
        "print(df_filter['Age'].unique())\n",
        "print(df_filter['rectal temperature'].unique())\n",
        "print(df_filter['pulse'].unique())\n",
        "print(df_filter['respiratory rate'].unique())\n",
        "print(df_filter['temperature of extremities'].unique())\n",
        "print(df_filter['pain'].unique())\n",
        "print(df_filter['outcome'].unique())"
      ],
      "metadata": {
        "colab": {
          "base_uri": "https://localhost:8080/"
        },
        "id": "fLTIkhMI_xqi",
        "outputId": "e106e9ae-d455-4b56-e667-d3bf67513bcb"
      },
      "execution_count": null,
      "outputs": [
        {
          "output_type": "stream",
          "name": "stdout",
          "text": [
            "[ 2.  1. nan]\n",
            "[1 9]\n",
            "[38.5 39.2 38.3 39.1 37.3  nan 37.9 38.1 37.2 38.  38.2 37.6 37.5 39.4\n",
            " 39.9 38.4 38.6 37.8 37.7 39.  35.4 38.9 37.4 40.3 37.  39.7 38.7 36.4\n",
            " 38.8 39.6 36.8 39.5 36.5 36.  37.1 39.3 36.1 36.6 40.8 36.9 40. ]\n",
            "[ 66.  88.  40. 164. 104.  nan  48.  60.  80.  90.  72.  42.  92.  76.\n",
            "  96. 128.  64. 110. 130. 108. 100. 112.  52. 146. 150. 120. 140.  84.\n",
            "  46. 114. 160.  54.  56.  38.  98.  50.  44.  70.  78.  49.  30. 136.\n",
            " 132.  65.  86. 129.  68.  36.  45. 124. 184.  75.  82.]\n",
            "[28. 20. 24. 84. 35. nan 16. 36. 12. 52. 48. 21. 60. 34. 42. 30. 96. 72.\n",
            " 15. 44. 32. 22. 18. 80. 40. 10. 51. 68. 66.  9. 14. 90.  8. 23. 58. 13.\n",
            " 70. 26. 88. 25. 50.]\n",
            "[ 3. nan  1.  4.  2.]\n",
            "[ 5.  3.  2. nan  4.  1.]\n",
            "[ 2.  3.  1. nan]\n"
          ]
        }
      ]
    },
    {
      "cell_type": "code",
      "source": [
        "# Столбец Возраст:\n",
        "# Согласно описания, данные содержат значения '1' и '2'. Исходя из этого принимаем значение '9' как техническую ошибку. Иправляем на '2'\n",
        "df_filter.loc[df_filter['Age'] == 9, 'Age'] = 2\n",
        "df_filter['Age'].value_counts()\n"
      ],
      "metadata": {
        "colab": {
          "base_uri": "https://localhost:8080/"
        },
        "id": "n59_w0Zgsdwb",
        "outputId": "5a374a27-fcc1-4b9e-a225-ec797a2ab73d"
      },
      "execution_count": null,
      "outputs": [
        {
          "output_type": "stream",
          "name": "stderr",
          "text": [
            "/usr/local/lib/python3.8/dist-packages/pandas/core/indexing.py:1817: SettingWithCopyWarning: \n",
            "A value is trying to be set on a copy of a slice from a DataFrame.\n",
            "Try using .loc[row_indexer,col_indexer] = value instead\n",
            "\n",
            "See the caveats in the documentation: https://pandas.pydata.org/pandas-docs/stable/user_guide/indexing.html#returning-a-view-versus-a-copy\n",
            "  self._setitem_single_column(loc, value, pi)\n"
          ]
        },
        {
          "output_type": "execute_result",
          "data": {
            "text/plain": [
              "1    276\n",
              "2     24\n",
              "Name: Age, dtype: int64"
            ]
          },
          "metadata": {},
          "execution_count": 586
        }
      ]
    },
    {
      "cell_type": "code",
      "source": [
        "#Основные базовые статистики первичного датафрейма:\n",
        "df_filter.describe()"
      ],
      "metadata": {
        "colab": {
          "base_uri": "https://localhost:8080/",
          "height": 300
        },
        "id": "oFxb0FcrCAey",
        "outputId": "7b11d9c3-7cda-4e0c-d115-713492a00757"
      },
      "execution_count": null,
      "outputs": [
        {
          "output_type": "execute_result",
          "data": {
            "text/plain": [
              "          surgery         Age  rectal temperature       pulse  \\\n",
              "count  299.000000  300.000000          240.000000  276.000000   \n",
              "mean     1.397993    1.080000           38.167917   71.913043   \n",
              "std      0.490305    0.271746            0.732289   28.630557   \n",
              "min      1.000000    1.000000           35.400000   30.000000   \n",
              "25%      1.000000    1.000000           37.800000   48.000000   \n",
              "50%      1.000000    1.000000           38.200000   64.000000   \n",
              "75%      2.000000    1.000000           38.500000   88.000000   \n",
              "max      2.000000    2.000000           40.800000  184.000000   \n",
              "\n",
              "       respiratory rate  temperature of extremities       pain     outcome  \n",
              "count        242.000000                  244.000000  245.00000  299.000000  \n",
              "mean          30.417355                    2.348361    2.95102    1.551839  \n",
              "std           17.642231                    1.045054    1.30794    0.737187  \n",
              "min            8.000000                    1.000000    1.00000    1.000000  \n",
              "25%           18.500000                    1.000000    2.00000    1.000000  \n",
              "50%           24.500000                    3.000000    3.00000    1.000000  \n",
              "75%           36.000000                    3.000000    4.00000    2.000000  \n",
              "max           96.000000                    4.000000    5.00000    3.000000  "
            ],
            "text/html": [
              "\n",
              "  <div id=\"df-9efb8990-ec1d-4b3f-9a6a-1f77321d45a3\">\n",
              "    <div class=\"colab-df-container\">\n",
              "      <div>\n",
              "<style scoped>\n",
              "    .dataframe tbody tr th:only-of-type {\n",
              "        vertical-align: middle;\n",
              "    }\n",
              "\n",
              "    .dataframe tbody tr th {\n",
              "        vertical-align: top;\n",
              "    }\n",
              "\n",
              "    .dataframe thead th {\n",
              "        text-align: right;\n",
              "    }\n",
              "</style>\n",
              "<table border=\"1\" class=\"dataframe\">\n",
              "  <thead>\n",
              "    <tr style=\"text-align: right;\">\n",
              "      <th></th>\n",
              "      <th>surgery</th>\n",
              "      <th>Age</th>\n",
              "      <th>rectal temperature</th>\n",
              "      <th>pulse</th>\n",
              "      <th>respiratory rate</th>\n",
              "      <th>temperature of extremities</th>\n",
              "      <th>pain</th>\n",
              "      <th>outcome</th>\n",
              "    </tr>\n",
              "  </thead>\n",
              "  <tbody>\n",
              "    <tr>\n",
              "      <th>count</th>\n",
              "      <td>299.000000</td>\n",
              "      <td>300.000000</td>\n",
              "      <td>240.000000</td>\n",
              "      <td>276.000000</td>\n",
              "      <td>242.000000</td>\n",
              "      <td>244.000000</td>\n",
              "      <td>245.00000</td>\n",
              "      <td>299.000000</td>\n",
              "    </tr>\n",
              "    <tr>\n",
              "      <th>mean</th>\n",
              "      <td>1.397993</td>\n",
              "      <td>1.080000</td>\n",
              "      <td>38.167917</td>\n",
              "      <td>71.913043</td>\n",
              "      <td>30.417355</td>\n",
              "      <td>2.348361</td>\n",
              "      <td>2.95102</td>\n",
              "      <td>1.551839</td>\n",
              "    </tr>\n",
              "    <tr>\n",
              "      <th>std</th>\n",
              "      <td>0.490305</td>\n",
              "      <td>0.271746</td>\n",
              "      <td>0.732289</td>\n",
              "      <td>28.630557</td>\n",
              "      <td>17.642231</td>\n",
              "      <td>1.045054</td>\n",
              "      <td>1.30794</td>\n",
              "      <td>0.737187</td>\n",
              "    </tr>\n",
              "    <tr>\n",
              "      <th>min</th>\n",
              "      <td>1.000000</td>\n",
              "      <td>1.000000</td>\n",
              "      <td>35.400000</td>\n",
              "      <td>30.000000</td>\n",
              "      <td>8.000000</td>\n",
              "      <td>1.000000</td>\n",
              "      <td>1.00000</td>\n",
              "      <td>1.000000</td>\n",
              "    </tr>\n",
              "    <tr>\n",
              "      <th>25%</th>\n",
              "      <td>1.000000</td>\n",
              "      <td>1.000000</td>\n",
              "      <td>37.800000</td>\n",
              "      <td>48.000000</td>\n",
              "      <td>18.500000</td>\n",
              "      <td>1.000000</td>\n",
              "      <td>2.00000</td>\n",
              "      <td>1.000000</td>\n",
              "    </tr>\n",
              "    <tr>\n",
              "      <th>50%</th>\n",
              "      <td>1.000000</td>\n",
              "      <td>1.000000</td>\n",
              "      <td>38.200000</td>\n",
              "      <td>64.000000</td>\n",
              "      <td>24.500000</td>\n",
              "      <td>3.000000</td>\n",
              "      <td>3.00000</td>\n",
              "      <td>1.000000</td>\n",
              "    </tr>\n",
              "    <tr>\n",
              "      <th>75%</th>\n",
              "      <td>2.000000</td>\n",
              "      <td>1.000000</td>\n",
              "      <td>38.500000</td>\n",
              "      <td>88.000000</td>\n",
              "      <td>36.000000</td>\n",
              "      <td>3.000000</td>\n",
              "      <td>4.00000</td>\n",
              "      <td>2.000000</td>\n",
              "    </tr>\n",
              "    <tr>\n",
              "      <th>max</th>\n",
              "      <td>2.000000</td>\n",
              "      <td>2.000000</td>\n",
              "      <td>40.800000</td>\n",
              "      <td>184.000000</td>\n",
              "      <td>96.000000</td>\n",
              "      <td>4.000000</td>\n",
              "      <td>5.00000</td>\n",
              "      <td>3.000000</td>\n",
              "    </tr>\n",
              "  </tbody>\n",
              "</table>\n",
              "</div>\n",
              "      <button class=\"colab-df-convert\" onclick=\"convertToInteractive('df-9efb8990-ec1d-4b3f-9a6a-1f77321d45a3')\"\n",
              "              title=\"Convert this dataframe to an interactive table.\"\n",
              "              style=\"display:none;\">\n",
              "        \n",
              "  <svg xmlns=\"http://www.w3.org/2000/svg\" height=\"24px\"viewBox=\"0 0 24 24\"\n",
              "       width=\"24px\">\n",
              "    <path d=\"M0 0h24v24H0V0z\" fill=\"none\"/>\n",
              "    <path d=\"M18.56 5.44l.94 2.06.94-2.06 2.06-.94-2.06-.94-.94-2.06-.94 2.06-2.06.94zm-11 1L8.5 8.5l.94-2.06 2.06-.94-2.06-.94L8.5 2.5l-.94 2.06-2.06.94zm10 10l.94 2.06.94-2.06 2.06-.94-2.06-.94-.94-2.06-.94 2.06-2.06.94z\"/><path d=\"M17.41 7.96l-1.37-1.37c-.4-.4-.92-.59-1.43-.59-.52 0-1.04.2-1.43.59L10.3 9.45l-7.72 7.72c-.78.78-.78 2.05 0 2.83L4 21.41c.39.39.9.59 1.41.59.51 0 1.02-.2 1.41-.59l7.78-7.78 2.81-2.81c.8-.78.8-2.07 0-2.86zM5.41 20L4 18.59l7.72-7.72 1.47 1.35L5.41 20z\"/>\n",
              "  </svg>\n",
              "      </button>\n",
              "      \n",
              "  <style>\n",
              "    .colab-df-container {\n",
              "      display:flex;\n",
              "      flex-wrap:wrap;\n",
              "      gap: 12px;\n",
              "    }\n",
              "\n",
              "    .colab-df-convert {\n",
              "      background-color: #E8F0FE;\n",
              "      border: none;\n",
              "      border-radius: 50%;\n",
              "      cursor: pointer;\n",
              "      display: none;\n",
              "      fill: #1967D2;\n",
              "      height: 32px;\n",
              "      padding: 0 0 0 0;\n",
              "      width: 32px;\n",
              "    }\n",
              "\n",
              "    .colab-df-convert:hover {\n",
              "      background-color: #E2EBFA;\n",
              "      box-shadow: 0px 1px 2px rgba(60, 64, 67, 0.3), 0px 1px 3px 1px rgba(60, 64, 67, 0.15);\n",
              "      fill: #174EA6;\n",
              "    }\n",
              "\n",
              "    [theme=dark] .colab-df-convert {\n",
              "      background-color: #3B4455;\n",
              "      fill: #D2E3FC;\n",
              "    }\n",
              "\n",
              "    [theme=dark] .colab-df-convert:hover {\n",
              "      background-color: #434B5C;\n",
              "      box-shadow: 0px 1px 3px 1px rgba(0, 0, 0, 0.15);\n",
              "      filter: drop-shadow(0px 1px 2px rgba(0, 0, 0, 0.3));\n",
              "      fill: #FFFFFF;\n",
              "    }\n",
              "  </style>\n",
              "\n",
              "      <script>\n",
              "        const buttonEl =\n",
              "          document.querySelector('#df-9efb8990-ec1d-4b3f-9a6a-1f77321d45a3 button.colab-df-convert');\n",
              "        buttonEl.style.display =\n",
              "          google.colab.kernel.accessAllowed ? 'block' : 'none';\n",
              "\n",
              "        async function convertToInteractive(key) {\n",
              "          const element = document.querySelector('#df-9efb8990-ec1d-4b3f-9a6a-1f77321d45a3');\n",
              "          const dataTable =\n",
              "            await google.colab.kernel.invokeFunction('convertToInteractive',\n",
              "                                                     [key], {});\n",
              "          if (!dataTable) return;\n",
              "\n",
              "          const docLinkHtml = 'Like what you see? Visit the ' +\n",
              "            '<a target=\"_blank\" href=https://colab.research.google.com/notebooks/data_table.ipynb>data table notebook</a>'\n",
              "            + ' to learn more about interactive tables.';\n",
              "          element.innerHTML = '';\n",
              "          dataTable['output_type'] = 'display_data';\n",
              "          await google.colab.output.renderOutput(dataTable, element);\n",
              "          const docLink = document.createElement('div');\n",
              "          docLink.innerHTML = docLinkHtml;\n",
              "          element.appendChild(docLink);\n",
              "        }\n",
              "      </script>\n",
              "    </div>\n",
              "  </div>\n",
              "  "
            ]
          },
          "metadata": {},
          "execution_count": 587
        }
      ]
    },
    {
      "cell_type": "code",
      "source": [
        "# Моды\n",
        "print('Операция:', df_filter['surgery'].mode()[0])\n",
        "print('Возраст:', df_filter['Age'].mode()[0])\n",
        "print('Ректальная температура:', df_filter['rectal temperature'].mode()[0])\n",
        "print('Пульс:', df_filter['pulse'].mode()[0])\n",
        "print('Частота дыхания:', df_filter['respiratory rate'].mode()[0])\n",
        "print('Температура конечностей:', df_filter['temperature of extremities'].mode()[0])\n",
        "print('Боль:', df_filter['pain'].mode()[0])\n",
        "print('Исход:', df_filter['outcome'].mode()[0])"
      ],
      "metadata": {
        "colab": {
          "base_uri": "https://localhost:8080/"
        },
        "id": "ExmDeRJzFYoC",
        "outputId": "89ad4d1f-857c-40f0-e9de-8f5ecf8aaba7"
      },
      "execution_count": null,
      "outputs": [
        {
          "output_type": "stream",
          "name": "stdout",
          "text": [
            "Операция: 1.0\n",
            "Возраст: 1\n",
            "Ректальная температура: 38.0\n",
            "Пульс: 48.0\n",
            "Частота дыхания: 20.0\n",
            "Температура конечностей: 3.0\n",
            "Боль: 3.0\n",
            "Исход: 1.0\n"
          ]
        }
      ]
    },
    {
      "cell_type": "code",
      "source": [
        "# Дисперсии\n",
        "print('Операция:', df_filter['surgery'].var())\n",
        "print('Возраст:', df_filter['Age'].var())\n",
        "print('Ректальная температура:', df_filter['rectal temperature'].var())\n",
        "print('Пульс:', df_filter['pulse'].var())\n",
        "print('Частота дыхания:', df_filter['respiratory rate'].var())\n",
        "print('Температура конечностей:', df_filter['temperature of extremities'].var())\n",
        "print('Боль:', df_filter['pain'].var())\n",
        "print('Исход:', df_filter['outcome'].var())"
      ],
      "metadata": {
        "colab": {
          "base_uri": "https://localhost:8080/"
        },
        "id": "OmfRBIcDFsh5",
        "outputId": "fa9a78f7-50f6-40b3-95d0-5f3b438fbadc"
      },
      "execution_count": null,
      "outputs": [
        {
          "output_type": "stream",
          "name": "stdout",
          "text": [
            "Операция: 0.24039864425040958\n",
            "Возраст: 0.07384615384615383\n",
            "Ректальная температура: 0.5362466875871686\n",
            "Пульс: 819.7087747035573\n",
            "Частота дыхания: 311.2483282466308\n",
            "Температура конечностей: 1.0921372191863994\n",
            "Боль: 1.7107059217129477\n",
            "Исход: 0.5434445915916589\n"
          ]
        }
      ]
    },
    {
      "cell_type": "code",
      "source": [
        "# Межквартильные размахи количественных показателей\n",
        "Q1_rectal = df_filter['rectal temperature'].quantile(0.25)\n",
        "Q3_rectal = df_filter['rectal temperature'].quantile(0.75)\n",
        "IQR_rectal = Q3_rectal - Q1_rectal\n",
        "print('Ректальная температура:', IQR_rectal)\n",
        "\n",
        "Q1_pulse = df_filter['pulse'].quantile(0.25)\n",
        "Q3_pulse = df_filter['pulse'].quantile(0.75)\n",
        "IQR_pulse = Q3_pulse - Q1_pulse\n",
        "print('Пульс:', IQR_pulse)\n",
        "\n",
        "Q1_respiratory = df_filter['respiratory rate'].quantile(0.25)\n",
        "Q3_respiratory = df_filter['respiratory rate'].quantile(0.75)\n",
        "IQR_respiratory = Q3_respiratory - Q1_respiratory\n",
        "print('Частота дыхания:', IQR_respiratory)"
      ],
      "metadata": {
        "colab": {
          "base_uri": "https://localhost:8080/"
        },
        "id": "306TFClJF-fJ",
        "outputId": "e9d2a1e9-7542-4a2d-b044-43ef1f7f0071"
      },
      "execution_count": null,
      "outputs": [
        {
          "output_type": "stream",
          "name": "stdout",
          "text": [
            "Ректальная температура: 0.7000000000000028\n",
            "Пульс: 40.0\n",
            "Частота дыхания: 17.5\n"
          ]
        }
      ]
    },
    {
      "cell_type": "code",
      "source": [
        "#Выбросы:\n",
        "lower_bound_surgery = Q1_surgery - (1.5 * IQR_surgery) \n",
        "upper_bound_surgery = Q3_surgery + (1.5 * IQR_surgery)\n",
        "remove_outliers_surgery = df_filter[df_filter['surgery'].between(lower_bound_surgery, upper_bound_surgery, inclusive=True)]\n",
        "remove_outliers_surgery.info()"
      ],
      "metadata": {
        "colab": {
          "base_uri": "https://localhost:8080/"
        },
        "id": "xbmhwYESIPYZ",
        "outputId": "f7e6956a-c8da-480b-f386-ee851fd4616a"
      },
      "execution_count": null,
      "outputs": [
        {
          "output_type": "stream",
          "name": "stdout",
          "text": [
            "<class 'pandas.core.frame.DataFrame'>\n",
            "Int64Index: 299 entries, 0 to 299\n",
            "Data columns (total 8 columns):\n",
            " #   Column                      Non-Null Count  Dtype  \n",
            "---  ------                      --------------  -----  \n",
            " 0   surgery                     299 non-null    float64\n",
            " 1   Age                         299 non-null    int64  \n",
            " 2   rectal temperature          239 non-null    float64\n",
            " 3   pulse                       275 non-null    float64\n",
            " 4   respiratory rate            241 non-null    float64\n",
            " 5   temperature of extremities  243 non-null    float64\n",
            " 6   pain                        244 non-null    float64\n",
            " 7   outcome                     299 non-null    float64\n",
            "dtypes: float64(7), int64(1)\n",
            "memory usage: 21.0 KB\n"
          ]
        },
        {
          "output_type": "stream",
          "name": "stderr",
          "text": [
            "<ipython-input-591-11838402f158>:4: FutureWarning: Boolean inputs to the `inclusive` argument are deprecated infavour of `both` or `neither`.\n",
            "  remove_outliers_surgery = df_filter[df_filter['surgery'].between(lower_bound_surgery, upper_bound_surgery, inclusive=True)]\n"
          ]
        }
      ]
    },
    {
      "cell_type": "code",
      "source": [
        "lower_bound_age = Q1_age - (1.5 * IQR_age) \n",
        "upper_bound_age = Q3_age + (1.5 * IQR_age)\n",
        "remove_outliers_age = df_filter[df_filter['Age'].between(lower_bound_age, upper_bound_age, inclusive=True)]\n",
        "remove_outliers_age.info()"
      ],
      "metadata": {
        "colab": {
          "base_uri": "https://localhost:8080/"
        },
        "id": "Z7OIXAe_MAY4",
        "outputId": "7c80ce3b-9843-4700-e0cc-1d56e25dcdb5"
      },
      "execution_count": null,
      "outputs": [
        {
          "output_type": "stream",
          "name": "stdout",
          "text": [
            "<class 'pandas.core.frame.DataFrame'>\n",
            "Int64Index: 276 entries, 0 to 299\n",
            "Data columns (total 8 columns):\n",
            " #   Column                      Non-Null Count  Dtype  \n",
            "---  ------                      --------------  -----  \n",
            " 0   surgery                     275 non-null    float64\n",
            " 1   Age                         276 non-null    int64  \n",
            " 2   rectal temperature          220 non-null    float64\n",
            " 3   pulse                       254 non-null    float64\n",
            " 4   respiratory rate            222 non-null    float64\n",
            " 5   temperature of extremities  228 non-null    float64\n",
            " 6   pain                        228 non-null    float64\n",
            " 7   outcome                     275 non-null    float64\n",
            "dtypes: float64(7), int64(1)\n",
            "memory usage: 19.4 KB\n"
          ]
        },
        {
          "output_type": "stream",
          "name": "stderr",
          "text": [
            "<ipython-input-592-4902a9650f2d>:3: FutureWarning: Boolean inputs to the `inclusive` argument are deprecated infavour of `both` or `neither`.\n",
            "  remove_outliers_age = df_filter[df_filter['Age'].between(lower_bound_age, upper_bound_age, inclusive=True)]\n"
          ]
        }
      ]
    },
    {
      "cell_type": "code",
      "source": [
        "lower_bound_rectal = Q1_rectal - (1.5 * IQR_rectal) \n",
        "upper_bound_rectal = Q3_rectal + (1.5 * IQR_rectal)\n",
        "remove_outliers_rectal = df_filter[df_filter['rectal temperature'].between(lower_bound_rectal, upper_bound_rectal, inclusive=True)]\n",
        "remove_outliers_rectal.info()"
      ],
      "metadata": {
        "colab": {
          "base_uri": "https://localhost:8080/"
        },
        "id": "k0dHgp3oMWL3",
        "outputId": "b80cf544-43ea-46b3-88f0-fb94240c2573"
      },
      "execution_count": null,
      "outputs": [
        {
          "output_type": "stream",
          "name": "stderr",
          "text": [
            "<ipython-input-593-dddaebe3359c>:3: FutureWarning: Boolean inputs to the `inclusive` argument are deprecated infavour of `both` or `neither`.\n",
            "  remove_outliers_rectal = df_filter[df_filter['rectal temperature'].between(lower_bound_rectal, upper_bound_rectal, inclusive=True)]\n"
          ]
        },
        {
          "output_type": "stream",
          "name": "stdout",
          "text": [
            "<class 'pandas.core.frame.DataFrame'>\n",
            "Int64Index: 226 entries, 0 to 299\n",
            "Data columns (total 8 columns):\n",
            " #   Column                      Non-Null Count  Dtype  \n",
            "---  ------                      --------------  -----  \n",
            " 0   surgery                     225 non-null    float64\n",
            " 1   Age                         226 non-null    int64  \n",
            " 2   rectal temperature          226 non-null    float64\n",
            " 3   pulse                       220 non-null    float64\n",
            " 4   respiratory rate            199 non-null    float64\n",
            " 5   temperature of extremities  185 non-null    float64\n",
            " 6   pain                        187 non-null    float64\n",
            " 7   outcome                     225 non-null    float64\n",
            "dtypes: float64(7), int64(1)\n",
            "memory usage: 15.9 KB\n"
          ]
        }
      ]
    },
    {
      "cell_type": "code",
      "source": [
        "lower_bound_pulse = Q1_pulse - (1.5 * IQR_pulse) \n",
        "upper_bound_pulse = Q3_pulse + (1.5 * IQR_pulse)\n",
        "remove_outliers_pulse = df_filter[df_filter['pulse'].between(lower_bound_pulse, upper_bound_pulse, inclusive=True)]\n",
        "remove_outliers_pulse.info()"
      ],
      "metadata": {
        "colab": {
          "base_uri": "https://localhost:8080/"
        },
        "id": "lCiRK8EKMmKY",
        "outputId": "20eafb59-c01d-4934-cab4-c6b755e3f1c0"
      },
      "execution_count": null,
      "outputs": [
        {
          "output_type": "stream",
          "name": "stdout",
          "text": [
            "<class 'pandas.core.frame.DataFrame'>\n",
            "Int64Index: 271 entries, 0 to 299\n",
            "Data columns (total 8 columns):\n",
            " #   Column                      Non-Null Count  Dtype  \n",
            "---  ------                      --------------  -----  \n",
            " 0   surgery                     270 non-null    float64\n",
            " 1   Age                         271 non-null    int64  \n",
            " 2   rectal temperature          229 non-null    float64\n",
            " 3   pulse                       271 non-null    float64\n",
            " 4   respiratory rate            231 non-null    float64\n",
            " 5   temperature of extremities  225 non-null    float64\n",
            " 6   pain                        225 non-null    float64\n",
            " 7   outcome                     270 non-null    float64\n",
            "dtypes: float64(7), int64(1)\n",
            "memory usage: 19.1 KB\n"
          ]
        },
        {
          "output_type": "stream",
          "name": "stderr",
          "text": [
            "<ipython-input-594-321886d6c7c1>:3: FutureWarning: Boolean inputs to the `inclusive` argument are deprecated infavour of `both` or `neither`.\n",
            "  remove_outliers_pulse = df_filter[df_filter['pulse'].between(lower_bound_pulse, upper_bound_pulse, inclusive=True)]\n"
          ]
        }
      ]
    },
    {
      "cell_type": "code",
      "source": [
        "lower_bound_respiratory = Q1_respiratory - (1.5 * IQR_respiratory) \n",
        "upper_bound_respiratory = Q3_respiratory + (1.5 * IQR_respiratory)\n",
        "remove_outliers_respiratory = df_filter[df_filter['respiratory rate'].between(lower_bound_respiratory, upper_bound_respiratory, inclusive=True)]\n",
        "remove_outliers_respiratory.info()"
      ],
      "metadata": {
        "colab": {
          "base_uri": "https://localhost:8080/"
        },
        "id": "v3AIv0wsM0JA",
        "outputId": "ced5dbc9-6c3f-4171-c924-7842e432f899"
      },
      "execution_count": null,
      "outputs": [
        {
          "output_type": "stream",
          "name": "stdout",
          "text": [
            "<class 'pandas.core.frame.DataFrame'>\n",
            "Int64Index: 225 entries, 0 to 299\n",
            "Data columns (total 8 columns):\n",
            " #   Column                      Non-Null Count  Dtype  \n",
            "---  ------                      --------------  -----  \n",
            " 0   surgery                     224 non-null    float64\n",
            " 1   Age                         225 non-null    int64  \n",
            " 2   rectal temperature          195 non-null    float64\n",
            " 3   pulse                       219 non-null    float64\n",
            " 4   respiratory rate            225 non-null    float64\n",
            " 5   temperature of extremities  188 non-null    float64\n",
            " 6   pain                        191 non-null    float64\n",
            " 7   outcome                     224 non-null    float64\n",
            "dtypes: float64(7), int64(1)\n",
            "memory usage: 15.8 KB\n"
          ]
        },
        {
          "output_type": "stream",
          "name": "stderr",
          "text": [
            "<ipython-input-595-fcb599c4a91c>:3: FutureWarning: Boolean inputs to the `inclusive` argument are deprecated infavour of `both` or `neither`.\n",
            "  remove_outliers_respiratory = df_filter[df_filter['respiratory rate'].between(lower_bound_respiratory, upper_bound_respiratory, inclusive=True)]\n"
          ]
        }
      ]
    },
    {
      "cell_type": "code",
      "source": [
        "lower_bound_extremities = Q1_extremities - (1.5 * IQR_extremities) \n",
        "upper_bound_extremities = Q3_extremities + (1.5 * IQR_extremities)\n",
        "remove_outliers_extremities = df_filter[df_filter['temperature of extremities'].between(lower_bound_extremities, upper_bound_extremities, inclusive=True)]\n",
        "remove_outliers_extremities.info()"
      ],
      "metadata": {
        "colab": {
          "base_uri": "https://localhost:8080/"
        },
        "id": "kOZLJ4FmNEOf",
        "outputId": "03c76c89-f298-4966-9704-f5ac33baf549"
      },
      "execution_count": null,
      "outputs": [
        {
          "output_type": "stream",
          "name": "stdout",
          "text": [
            "<class 'pandas.core.frame.DataFrame'>\n",
            "Int64Index: 244 entries, 0 to 298\n",
            "Data columns (total 8 columns):\n",
            " #   Column                      Non-Null Count  Dtype  \n",
            "---  ------                      --------------  -----  \n",
            " 0   surgery                     243 non-null    float64\n",
            " 1   Age                         244 non-null    int64  \n",
            " 2   rectal temperature          198 non-null    float64\n",
            " 3   pulse                       229 non-null    float64\n",
            " 4   respiratory rate            201 non-null    float64\n",
            " 5   temperature of extremities  244 non-null    float64\n",
            " 6   pain                        224 non-null    float64\n",
            " 7   outcome                     243 non-null    float64\n",
            "dtypes: float64(7), int64(1)\n",
            "memory usage: 17.2 KB\n"
          ]
        },
        {
          "output_type": "stream",
          "name": "stderr",
          "text": [
            "<ipython-input-596-3ce9f8bfcd20>:3: FutureWarning: Boolean inputs to the `inclusive` argument are deprecated infavour of `both` or `neither`.\n",
            "  remove_outliers_extremities = df_filter[df_filter['temperature of extremities'].between(lower_bound_extremities, upper_bound_extremities, inclusive=True)]\n"
          ]
        }
      ]
    },
    {
      "cell_type": "code",
      "source": [
        "lower_bound_pain = Q1_pain - (1.5 * IQR_pain) \n",
        "upper_bound_pain = Q3_pain + (1.5 * IQR_pain)\n",
        "remove_outliers_pain = df_filter[df_filter['pain'].between(lower_bound_pain, upper_bound_pain, inclusive=True)]\n",
        "remove_outliers_pain.info()"
      ],
      "metadata": {
        "colab": {
          "base_uri": "https://localhost:8080/"
        },
        "id": "VmebA7RnNThn",
        "outputId": "0dc4d74c-cbc7-4cc3-bc04-52ab195875f5"
      },
      "execution_count": null,
      "outputs": [
        {
          "output_type": "stream",
          "name": "stdout",
          "text": [
            "<class 'pandas.core.frame.DataFrame'>\n",
            "Int64Index: 245 entries, 0 to 298\n",
            "Data columns (total 8 columns):\n",
            " #   Column                      Non-Null Count  Dtype  \n",
            "---  ------                      --------------  -----  \n",
            " 0   surgery                     244 non-null    float64\n",
            " 1   Age                         245 non-null    int64  \n",
            " 2   rectal temperature          200 non-null    float64\n",
            " 3   pulse                       229 non-null    float64\n",
            " 4   respiratory rate            201 non-null    float64\n",
            " 5   temperature of extremities  224 non-null    float64\n",
            " 6   pain                        245 non-null    float64\n",
            " 7   outcome                     244 non-null    float64\n",
            "dtypes: float64(7), int64(1)\n",
            "memory usage: 17.2 KB\n"
          ]
        },
        {
          "output_type": "stream",
          "name": "stderr",
          "text": [
            "<ipython-input-597-e6b29bb5eef2>:3: FutureWarning: Boolean inputs to the `inclusive` argument are deprecated infavour of `both` or `neither`.\n",
            "  remove_outliers_pain = df_filter[df_filter['pain'].between(lower_bound_pain, upper_bound_pain, inclusive=True)]\n"
          ]
        }
      ]
    },
    {
      "cell_type": "code",
      "source": [
        "lower_bound_outcome = Q1_outcome - (1.5 * IQR_outcome) \n",
        "upper_bound_outcome = Q3_outcome + (1.5 * IQR_outcome)\n",
        "remove_outliers_outcome = df_filter[df_filter['outcome'].between(lower_bound_outcome, upper_bound_outcome, inclusive=True)]\n",
        "remove_outliers_outcome.info()"
      ],
      "metadata": {
        "colab": {
          "base_uri": "https://localhost:8080/"
        },
        "id": "T8wECFU3N0Df",
        "outputId": "9d76fcc7-1ed8-47d2-d862-f6cdd4d9af05"
      },
      "execution_count": null,
      "outputs": [
        {
          "output_type": "stream",
          "name": "stderr",
          "text": [
            "<ipython-input-598-989e396bb8e5>:3: FutureWarning: Boolean inputs to the `inclusive` argument are deprecated infavour of `both` or `neither`.\n",
            "  remove_outliers_outcome = df_filter[df_filter['outcome'].between(lower_bound_outcome, upper_bound_outcome, inclusive=True)]\n"
          ]
        },
        {
          "output_type": "stream",
          "name": "stdout",
          "text": [
            "<class 'pandas.core.frame.DataFrame'>\n",
            "Int64Index: 299 entries, 0 to 299\n",
            "Data columns (total 8 columns):\n",
            " #   Column                      Non-Null Count  Dtype  \n",
            "---  ------                      --------------  -----  \n",
            " 0   surgery                     299 non-null    float64\n",
            " 1   Age                         299 non-null    int64  \n",
            " 2   rectal temperature          239 non-null    float64\n",
            " 3   pulse                       275 non-null    float64\n",
            " 4   respiratory rate            241 non-null    float64\n",
            " 5   temperature of extremities  243 non-null    float64\n",
            " 6   pain                        244 non-null    float64\n",
            " 7   outcome                     299 non-null    float64\n",
            "dtypes: float64(7), int64(1)\n",
            "memory usage: 21.0 KB\n"
          ]
        }
      ]
    },
    {
      "cell_type": "markdown",
      "source": [
        "Задание 3. Работа с пропусками\n",
        "Рассчитать количество пропусков для всех выбранных столбцов. Принять и обосновать решение о методе заполнения пропусков по каждому столбцу на основе рассчитанных статистик и возможной взаимосвязи значений в них. Сформировать датафрейм, в котором пропуски будут отсутствовать."
      ],
      "metadata": {
        "id": "IGRpsSswOKFm"
      }
    },
    {
      "cell_type": "code",
      "source": [
        "df_drop=df_filter.copy()\n",
        "df_drop"
      ],
      "metadata": {
        "colab": {
          "base_uri": "https://localhost:8080/",
          "height": 424
        },
        "id": "s7D52GRtFLOw",
        "outputId": "dbceffa4-4989-4984-8f5f-b559e0efc301"
      },
      "execution_count": null,
      "outputs": [
        {
          "output_type": "execute_result",
          "data": {
            "text/plain": [
              "     surgery  Age  rectal temperature  pulse  respiratory rate  \\\n",
              "0        2.0    1                38.5   66.0              28.0   \n",
              "1        1.0    1                39.2   88.0              20.0   \n",
              "2        2.0    1                38.3   40.0              24.0   \n",
              "3        1.0    2                39.1  164.0              84.0   \n",
              "4        2.0    1                37.3  104.0              35.0   \n",
              "..       ...  ...                 ...    ...               ...   \n",
              "295      1.0    1                 NaN  120.0              70.0   \n",
              "296      2.0    1                37.2   72.0              24.0   \n",
              "297      1.0    1                37.5   72.0              30.0   \n",
              "298      1.0    1                36.5  100.0              24.0   \n",
              "299      1.0    1                37.2   40.0              20.0   \n",
              "\n",
              "     temperature of extremities  pain  outcome  \n",
              "0                           3.0   5.0      2.0  \n",
              "1                           NaN   3.0      3.0  \n",
              "2                           1.0   3.0      1.0  \n",
              "3                           4.0   2.0      2.0  \n",
              "4                           NaN   NaN      2.0  \n",
              "..                          ...   ...      ...  \n",
              "295                         4.0   2.0      3.0  \n",
              "296                         3.0   4.0      3.0  \n",
              "297                         4.0   4.0      2.0  \n",
              "298                         3.0   3.0      1.0  \n",
              "299                         NaN   NaN      3.0  \n",
              "\n",
              "[300 rows x 8 columns]"
            ],
            "text/html": [
              "\n",
              "  <div id=\"df-5af666ea-6ddd-4634-92e1-7185c5ea8942\">\n",
              "    <div class=\"colab-df-container\">\n",
              "      <div>\n",
              "<style scoped>\n",
              "    .dataframe tbody tr th:only-of-type {\n",
              "        vertical-align: middle;\n",
              "    }\n",
              "\n",
              "    .dataframe tbody tr th {\n",
              "        vertical-align: top;\n",
              "    }\n",
              "\n",
              "    .dataframe thead th {\n",
              "        text-align: right;\n",
              "    }\n",
              "</style>\n",
              "<table border=\"1\" class=\"dataframe\">\n",
              "  <thead>\n",
              "    <tr style=\"text-align: right;\">\n",
              "      <th></th>\n",
              "      <th>surgery</th>\n",
              "      <th>Age</th>\n",
              "      <th>rectal temperature</th>\n",
              "      <th>pulse</th>\n",
              "      <th>respiratory rate</th>\n",
              "      <th>temperature of extremities</th>\n",
              "      <th>pain</th>\n",
              "      <th>outcome</th>\n",
              "    </tr>\n",
              "  </thead>\n",
              "  <tbody>\n",
              "    <tr>\n",
              "      <th>0</th>\n",
              "      <td>2.0</td>\n",
              "      <td>1</td>\n",
              "      <td>38.5</td>\n",
              "      <td>66.0</td>\n",
              "      <td>28.0</td>\n",
              "      <td>3.0</td>\n",
              "      <td>5.0</td>\n",
              "      <td>2.0</td>\n",
              "    </tr>\n",
              "    <tr>\n",
              "      <th>1</th>\n",
              "      <td>1.0</td>\n",
              "      <td>1</td>\n",
              "      <td>39.2</td>\n",
              "      <td>88.0</td>\n",
              "      <td>20.0</td>\n",
              "      <td>NaN</td>\n",
              "      <td>3.0</td>\n",
              "      <td>3.0</td>\n",
              "    </tr>\n",
              "    <tr>\n",
              "      <th>2</th>\n",
              "      <td>2.0</td>\n",
              "      <td>1</td>\n",
              "      <td>38.3</td>\n",
              "      <td>40.0</td>\n",
              "      <td>24.0</td>\n",
              "      <td>1.0</td>\n",
              "      <td>3.0</td>\n",
              "      <td>1.0</td>\n",
              "    </tr>\n",
              "    <tr>\n",
              "      <th>3</th>\n",
              "      <td>1.0</td>\n",
              "      <td>2</td>\n",
              "      <td>39.1</td>\n",
              "      <td>164.0</td>\n",
              "      <td>84.0</td>\n",
              "      <td>4.0</td>\n",
              "      <td>2.0</td>\n",
              "      <td>2.0</td>\n",
              "    </tr>\n",
              "    <tr>\n",
              "      <th>4</th>\n",
              "      <td>2.0</td>\n",
              "      <td>1</td>\n",
              "      <td>37.3</td>\n",
              "      <td>104.0</td>\n",
              "      <td>35.0</td>\n",
              "      <td>NaN</td>\n",
              "      <td>NaN</td>\n",
              "      <td>2.0</td>\n",
              "    </tr>\n",
              "    <tr>\n",
              "      <th>...</th>\n",
              "      <td>...</td>\n",
              "      <td>...</td>\n",
              "      <td>...</td>\n",
              "      <td>...</td>\n",
              "      <td>...</td>\n",
              "      <td>...</td>\n",
              "      <td>...</td>\n",
              "      <td>...</td>\n",
              "    </tr>\n",
              "    <tr>\n",
              "      <th>295</th>\n",
              "      <td>1.0</td>\n",
              "      <td>1</td>\n",
              "      <td>NaN</td>\n",
              "      <td>120.0</td>\n",
              "      <td>70.0</td>\n",
              "      <td>4.0</td>\n",
              "      <td>2.0</td>\n",
              "      <td>3.0</td>\n",
              "    </tr>\n",
              "    <tr>\n",
              "      <th>296</th>\n",
              "      <td>2.0</td>\n",
              "      <td>1</td>\n",
              "      <td>37.2</td>\n",
              "      <td>72.0</td>\n",
              "      <td>24.0</td>\n",
              "      <td>3.0</td>\n",
              "      <td>4.0</td>\n",
              "      <td>3.0</td>\n",
              "    </tr>\n",
              "    <tr>\n",
              "      <th>297</th>\n",
              "      <td>1.0</td>\n",
              "      <td>1</td>\n",
              "      <td>37.5</td>\n",
              "      <td>72.0</td>\n",
              "      <td>30.0</td>\n",
              "      <td>4.0</td>\n",
              "      <td>4.0</td>\n",
              "      <td>2.0</td>\n",
              "    </tr>\n",
              "    <tr>\n",
              "      <th>298</th>\n",
              "      <td>1.0</td>\n",
              "      <td>1</td>\n",
              "      <td>36.5</td>\n",
              "      <td>100.0</td>\n",
              "      <td>24.0</td>\n",
              "      <td>3.0</td>\n",
              "      <td>3.0</td>\n",
              "      <td>1.0</td>\n",
              "    </tr>\n",
              "    <tr>\n",
              "      <th>299</th>\n",
              "      <td>1.0</td>\n",
              "      <td>1</td>\n",
              "      <td>37.2</td>\n",
              "      <td>40.0</td>\n",
              "      <td>20.0</td>\n",
              "      <td>NaN</td>\n",
              "      <td>NaN</td>\n",
              "      <td>3.0</td>\n",
              "    </tr>\n",
              "  </tbody>\n",
              "</table>\n",
              "<p>300 rows × 8 columns</p>\n",
              "</div>\n",
              "      <button class=\"colab-df-convert\" onclick=\"convertToInteractive('df-5af666ea-6ddd-4634-92e1-7185c5ea8942')\"\n",
              "              title=\"Convert this dataframe to an interactive table.\"\n",
              "              style=\"display:none;\">\n",
              "        \n",
              "  <svg xmlns=\"http://www.w3.org/2000/svg\" height=\"24px\"viewBox=\"0 0 24 24\"\n",
              "       width=\"24px\">\n",
              "    <path d=\"M0 0h24v24H0V0z\" fill=\"none\"/>\n",
              "    <path d=\"M18.56 5.44l.94 2.06.94-2.06 2.06-.94-2.06-.94-.94-2.06-.94 2.06-2.06.94zm-11 1L8.5 8.5l.94-2.06 2.06-.94-2.06-.94L8.5 2.5l-.94 2.06-2.06.94zm10 10l.94 2.06.94-2.06 2.06-.94-2.06-.94-.94-2.06-.94 2.06-2.06.94z\"/><path d=\"M17.41 7.96l-1.37-1.37c-.4-.4-.92-.59-1.43-.59-.52 0-1.04.2-1.43.59L10.3 9.45l-7.72 7.72c-.78.78-.78 2.05 0 2.83L4 21.41c.39.39.9.59 1.41.59.51 0 1.02-.2 1.41-.59l7.78-7.78 2.81-2.81c.8-.78.8-2.07 0-2.86zM5.41 20L4 18.59l7.72-7.72 1.47 1.35L5.41 20z\"/>\n",
              "  </svg>\n",
              "      </button>\n",
              "      \n",
              "  <style>\n",
              "    .colab-df-container {\n",
              "      display:flex;\n",
              "      flex-wrap:wrap;\n",
              "      gap: 12px;\n",
              "    }\n",
              "\n",
              "    .colab-df-convert {\n",
              "      background-color: #E8F0FE;\n",
              "      border: none;\n",
              "      border-radius: 50%;\n",
              "      cursor: pointer;\n",
              "      display: none;\n",
              "      fill: #1967D2;\n",
              "      height: 32px;\n",
              "      padding: 0 0 0 0;\n",
              "      width: 32px;\n",
              "    }\n",
              "\n",
              "    .colab-df-convert:hover {\n",
              "      background-color: #E2EBFA;\n",
              "      box-shadow: 0px 1px 2px rgba(60, 64, 67, 0.3), 0px 1px 3px 1px rgba(60, 64, 67, 0.15);\n",
              "      fill: #174EA6;\n",
              "    }\n",
              "\n",
              "    [theme=dark] .colab-df-convert {\n",
              "      background-color: #3B4455;\n",
              "      fill: #D2E3FC;\n",
              "    }\n",
              "\n",
              "    [theme=dark] .colab-df-convert:hover {\n",
              "      background-color: #434B5C;\n",
              "      box-shadow: 0px 1px 3px 1px rgba(0, 0, 0, 0.15);\n",
              "      filter: drop-shadow(0px 1px 2px rgba(0, 0, 0, 0.3));\n",
              "      fill: #FFFFFF;\n",
              "    }\n",
              "  </style>\n",
              "\n",
              "      <script>\n",
              "        const buttonEl =\n",
              "          document.querySelector('#df-5af666ea-6ddd-4634-92e1-7185c5ea8942 button.colab-df-convert');\n",
              "        buttonEl.style.display =\n",
              "          google.colab.kernel.accessAllowed ? 'block' : 'none';\n",
              "\n",
              "        async function convertToInteractive(key) {\n",
              "          const element = document.querySelector('#df-5af666ea-6ddd-4634-92e1-7185c5ea8942');\n",
              "          const dataTable =\n",
              "            await google.colab.kernel.invokeFunction('convertToInteractive',\n",
              "                                                     [key], {});\n",
              "          if (!dataTable) return;\n",
              "\n",
              "          const docLinkHtml = 'Like what you see? Visit the ' +\n",
              "            '<a target=\"_blank\" href=https://colab.research.google.com/notebooks/data_table.ipynb>data table notebook</a>'\n",
              "            + ' to learn more about interactive tables.';\n",
              "          element.innerHTML = '';\n",
              "          dataTable['output_type'] = 'display_data';\n",
              "          await google.colab.output.renderOutput(dataTable, element);\n",
              "          const docLink = document.createElement('div');\n",
              "          docLink.innerHTML = docLinkHtml;\n",
              "          element.appendChild(docLink);\n",
              "        }\n",
              "      </script>\n",
              "    </div>\n",
              "  </div>\n",
              "  "
            ]
          },
          "metadata": {},
          "execution_count": 599
        }
      ]
    },
    {
      "cell_type": "code",
      "source": [
        "#Доля пропусков в данных\n",
        "(df_drop.isna().mean() * 100).round(2)\n"
      ],
      "metadata": {
        "colab": {
          "base_uri": "https://localhost:8080/"
        },
        "id": "0l-SKMTCOsvJ",
        "outputId": "2064486a-5ba2-47fa-d32e-ac791b44a99f"
      },
      "execution_count": null,
      "outputs": [
        {
          "output_type": "execute_result",
          "data": {
            "text/plain": [
              "surgery                        0.33\n",
              "Age                            0.00\n",
              "rectal temperature            20.00\n",
              "pulse                          8.00\n",
              "respiratory rate              19.33\n",
              "temperature of extremities    18.67\n",
              "pain                          18.33\n",
              "outcome                        0.33\n",
              "dtype: float64"
            ]
          },
          "metadata": {},
          "execution_count": 600
        }
      ]
    },
    {
      "cell_type": "code",
      "source": [
        "#Заполнили 1 пропуск в столбце Операция на моду\n",
        "#Заполнили 1 пропуск в столбце Исход на моду\n",
        "df_drop['surgery'] = df_drop['surgery'].fillna(df_drop['surgery'].mode()[0])\n",
        "df_drop['outcome'] = df_drop['outcome'].fillna(df_drop['outcome'].mode()[0])"
      ],
      "metadata": {
        "id": "DvYDQhJVASJk"
      },
      "execution_count": null,
      "outputs": []
    },
    {
      "cell_type": "code",
      "source": [
        "#Проверяем медиану столбца Боль без учёта пропусков\n",
        "\n",
        "df_drop.info()\n",
        "df_drop['pain'].median()"
      ],
      "metadata": {
        "colab": {
          "base_uri": "https://localhost:8080/"
        },
        "id": "plMjfBHEfjj5",
        "outputId": "9471d973-5af6-41a1-e085-29e5e4ecec7d"
      },
      "execution_count": null,
      "outputs": [
        {
          "output_type": "stream",
          "name": "stdout",
          "text": [
            "<class 'pandas.core.frame.DataFrame'>\n",
            "RangeIndex: 300 entries, 0 to 299\n",
            "Data columns (total 8 columns):\n",
            " #   Column                      Non-Null Count  Dtype  \n",
            "---  ------                      --------------  -----  \n",
            " 0   surgery                     300 non-null    float64\n",
            " 1   Age                         300 non-null    int64  \n",
            " 2   rectal temperature          240 non-null    float64\n",
            " 3   pulse                       276 non-null    float64\n",
            " 4   respiratory rate            242 non-null    float64\n",
            " 5   temperature of extremities  244 non-null    float64\n",
            " 6   pain                        245 non-null    float64\n",
            " 7   outcome                     300 non-null    float64\n",
            "dtypes: float64(7), int64(1)\n",
            "memory usage: 18.9 KB\n"
          ]
        },
        {
          "output_type": "execute_result",
          "data": {
            "text/plain": [
              "3.0"
            ]
          },
          "metadata": {},
          "execution_count": 602
        }
      ]
    },
    {
      "cell_type": "code",
      "source": [
        "# Заполняем его медианой\n",
        "df_drop['pain'] = df_drop['pain'].fillna(df_drop['pain'].median())\n",
        "df_drop.info()\n",
        "df_drop['pain'].median()"
      ],
      "metadata": {
        "colab": {
          "base_uri": "https://localhost:8080/"
        },
        "id": "DZ7aPmCuVyXC",
        "outputId": "d6b677c1-14aa-44ee-c6bd-36b92fff492e"
      },
      "execution_count": null,
      "outputs": [
        {
          "output_type": "stream",
          "name": "stdout",
          "text": [
            "<class 'pandas.core.frame.DataFrame'>\n",
            "RangeIndex: 300 entries, 0 to 299\n",
            "Data columns (total 8 columns):\n",
            " #   Column                      Non-Null Count  Dtype  \n",
            "---  ------                      --------------  -----  \n",
            " 0   surgery                     300 non-null    float64\n",
            " 1   Age                         300 non-null    int64  \n",
            " 2   rectal temperature          240 non-null    float64\n",
            " 3   pulse                       276 non-null    float64\n",
            " 4   respiratory rate            242 non-null    float64\n",
            " 5   temperature of extremities  244 non-null    float64\n",
            " 6   pain                        300 non-null    float64\n",
            " 7   outcome                     300 non-null    float64\n",
            "dtypes: float64(7), int64(1)\n",
            "memory usage: 18.9 KB\n"
          ]
        },
        {
          "output_type": "execute_result",
          "data": {
            "text/plain": [
              "3.0"
            ]
          },
          "metadata": {},
          "execution_count": 603
        }
      ]
    },
    {
      "cell_type": "code",
      "source": [
        "# Оставшиеся столбцы заполняем по группировке с полными столбцами, на мой взгляд имеющими общую логику, \n",
        "# начиная с имеющего наименьшее количество пропусков\n",
        "df_group=df_drop\n",
        "df_group['pulse'] = df_group['pulse'].fillna(df_group.groupby(['outcome', 'surgery'])['pulse'].transform('median'))\n",
        "df_group['temperature of extremities'] = df_group['temperature of extremities'].fillna(df_group.groupby(['outcome', 'pain'])['temperature of extremities'].transform('median'))\n",
        "df_group['rectal temperature'] = df_group['rectal temperature'].fillna(df_group.groupby(['surgery', 'pulse'])['rectal temperature'].transform('median'))\n",
        "df_group['respiratory rate'] = df_group['respiratory rate'].fillna(df_group.groupby(['pain', 'Age'])['respiratory rate'].transform('median'))\n",
        "\n",
        "df_group.info()"
      ],
      "metadata": {
        "colab": {
          "base_uri": "https://localhost:8080/"
        },
        "id": "yIoSUk9Qd1Xb",
        "outputId": "48038ebc-198a-4e86-b914-09a6a7d17717"
      },
      "execution_count": null,
      "outputs": [
        {
          "output_type": "stream",
          "name": "stdout",
          "text": [
            "<class 'pandas.core.frame.DataFrame'>\n",
            "RangeIndex: 300 entries, 0 to 299\n",
            "Data columns (total 8 columns):\n",
            " #   Column                      Non-Null Count  Dtype  \n",
            "---  ------                      --------------  -----  \n",
            " 0   surgery                     300 non-null    float64\n",
            " 1   Age                         300 non-null    int64  \n",
            " 2   rectal temperature          294 non-null    float64\n",
            " 3   pulse                       300 non-null    float64\n",
            " 4   respiratory rate            300 non-null    float64\n",
            " 5   temperature of extremities  300 non-null    float64\n",
            " 6   pain                        300 non-null    float64\n",
            " 7   outcome                     300 non-null    float64\n",
            "dtypes: float64(7), int64(1)\n",
            "memory usage: 18.9 KB\n"
          ]
        }
      ]
    },
    {
      "cell_type": "code",
      "source": [
        "#Оставшиеся пропуски заполняем медианой\n",
        "df_group['rectal temperature'] = df_group['rectal temperature'].fillna(df_group['rectal temperature'].median())\n",
        "df_group.info()"
      ],
      "metadata": {
        "colab": {
          "base_uri": "https://localhost:8080/"
        },
        "id": "z6Zb-ih4q6qy",
        "outputId": "404fb4bb-13c1-4bcf-b2e0-d991b48dcc10"
      },
      "execution_count": null,
      "outputs": [
        {
          "output_type": "stream",
          "name": "stdout",
          "text": [
            "<class 'pandas.core.frame.DataFrame'>\n",
            "RangeIndex: 300 entries, 0 to 299\n",
            "Data columns (total 8 columns):\n",
            " #   Column                      Non-Null Count  Dtype  \n",
            "---  ------                      --------------  -----  \n",
            " 0   surgery                     300 non-null    float64\n",
            " 1   Age                         300 non-null    int64  \n",
            " 2   rectal temperature          300 non-null    float64\n",
            " 3   pulse                       300 non-null    float64\n",
            " 4   respiratory rate            300 non-null    float64\n",
            " 5   temperature of extremities  300 non-null    float64\n",
            " 6   pain                        300 non-null    float64\n",
            " 7   outcome                     300 non-null    float64\n",
            "dtypes: float64(7), int64(1)\n",
            "memory usage: 18.9 KB\n"
          ]
        }
      ]
    },
    {
      "cell_type": "markdown",
      "source": [
        "# Выбросы верно будет оставить, т.к. выбивающиеся из статистических показателей значения, вполне могут быть при разнообразных болезнях и патологиях животного\n"
      ],
      "metadata": {
        "id": "syUlwd_fY1VA"
      }
    },
    {
      "cell_type": "code",
      "source": [
        "# зависимость частоты дыхания от возраста и необходимости операции\n",
        "print(df_group.groupby(['surgery', 'Age'])['respiratory rate'].median())\n"
      ],
      "metadata": {
        "id": "jJqQi9yRmtSa",
        "colab": {
          "base_uri": "https://localhost:8080/"
        },
        "outputId": "332dd305-8d46-40e0-ec80-b3c3578f131c"
      },
      "execution_count": null,
      "outputs": [
        {
          "output_type": "stream",
          "name": "stdout",
          "text": [
            "surgery  Age\n",
            "1.0      1      24.0\n",
            "         2      57.0\n",
            "2.0      1      24.0\n",
            "         2      37.0\n",
            "Name: respiratory rate, dtype: float64\n"
          ]
        }
      ]
    },
    {
      "cell_type": "code",
      "source": [
        "# зависимость частоты дыхания от болей и необходимости операции\n",
        "print(df_group.groupby(['surgery', 'pain'])['respiratory rate'].median())"
      ],
      "metadata": {
        "colab": {
          "base_uri": "https://localhost:8080/"
        },
        "id": "NE7inHyy1Jip",
        "outputId": "040c3109-cf9f-4eba-d1f2-5e3053c26d5d"
      },
      "execution_count": null,
      "outputs": [
        {
          "output_type": "stream",
          "name": "stdout",
          "text": [
            "surgery  pain\n",
            "1.0      1.0     16.0\n",
            "         2.0     36.0\n",
            "         3.0     24.0\n",
            "         4.0     27.5\n",
            "         5.0     28.0\n",
            "2.0      1.0     20.0\n",
            "         2.0     24.0\n",
            "         3.0     24.0\n",
            "         4.0     27.5\n",
            "         5.0     28.0\n",
            "Name: respiratory rate, dtype: float64\n"
          ]
        }
      ]
    },
    {
      "cell_type": "code",
      "source": [
        "# зависимость частоты дыхания от необходимости операции и возраста \n",
        "print(df_group.groupby(['Age', 'surgery'])['respiratory rate'].median())"
      ],
      "metadata": {
        "colab": {
          "base_uri": "https://localhost:8080/"
        },
        "id": "5wz11stc1jmJ",
        "outputId": "68da1913-c5f8-491a-ee69-a73afd6c5e24"
      },
      "execution_count": null,
      "outputs": [
        {
          "output_type": "stream",
          "name": "stdout",
          "text": [
            "Age  surgery\n",
            "1    1.0        24.0\n",
            "     2.0        24.0\n",
            "2    1.0        57.0\n",
            "     2.0        37.0\n",
            "Name: respiratory rate, dtype: float64\n"
          ]
        }
      ]
    },
    {
      "cell_type": "code",
      "source": [
        "# зависимость частоты дыхания от исхода и болей\n",
        "print(df_group.groupby(['pain', 'outcome'])['respiratory rate'].median())\n"
      ],
      "metadata": {
        "colab": {
          "base_uri": "https://localhost:8080/"
        },
        "id": "xq-vuVug2UYC",
        "outputId": "ce794b1e-8b08-4e6d-d777-cf94ec4af8f6"
      },
      "execution_count": null,
      "outputs": [
        {
          "output_type": "stream",
          "name": "stdout",
          "text": [
            "pain  outcome\n",
            "1.0   1.0        20.0\n",
            "      2.0        23.0\n",
            "      3.0        20.0\n",
            "2.0   1.0        28.0\n",
            "      2.0        32.0\n",
            "      3.0        34.0\n",
            "3.0   1.0        24.0\n",
            "      2.0        26.0\n",
            "      3.0        24.0\n",
            "4.0   1.0        30.0\n",
            "      2.0        27.5\n",
            "      3.0        27.5\n",
            "5.0   1.0        29.0\n",
            "      2.0        28.0\n",
            "      3.0        23.0\n",
            "Name: respiratory rate, dtype: float64\n"
          ]
        }
      ]
    },
    {
      "cell_type": "code",
      "source": [
        "# зависимость частоты дыхания от болей и исхода\n",
        "print(df_group.groupby(['outcome', 'pain'])['respiratory rate'].median())\n"
      ],
      "metadata": {
        "colab": {
          "base_uri": "https://localhost:8080/"
        },
        "id": "wafqSQrV4OCS",
        "outputId": "1c5616c1-d278-42b5-cbd0-9b0eebd41fad"
      },
      "execution_count": null,
      "outputs": [
        {
          "output_type": "stream",
          "name": "stdout",
          "text": [
            "outcome  pain\n",
            "1.0      1.0     20.0\n",
            "         2.0     28.0\n",
            "         3.0     24.0\n",
            "         4.0     30.0\n",
            "         5.0     29.0\n",
            "2.0      1.0     23.0\n",
            "         2.0     32.0\n",
            "         3.0     26.0\n",
            "         4.0     27.5\n",
            "         5.0     28.0\n",
            "3.0      1.0     20.0\n",
            "         2.0     34.0\n",
            "         3.0     24.0\n",
            "         4.0     27.5\n",
            "         5.0     23.0\n",
            "Name: respiratory rate, dtype: float64\n"
          ]
        }
      ]
    },
    {
      "cell_type": "code",
      "source": [
        "# зависимость частоты дыхания от болей и возраста\n",
        "print(df_group.groupby(['Age', 'pain'])['respiratory rate'].median())"
      ],
      "metadata": {
        "colab": {
          "base_uri": "https://localhost:8080/"
        },
        "id": "3AfFgJ3F4fqJ",
        "outputId": "12eb30a9-b64c-4394-ed45-8101ed7fc3f8"
      },
      "execution_count": null,
      "outputs": [
        {
          "output_type": "stream",
          "name": "stdout",
          "text": [
            "Age  pain\n",
            "1    1.0     20.0\n",
            "     2.0     28.0\n",
            "     3.0     24.0\n",
            "     4.0     27.5\n",
            "     5.0     28.0\n",
            "2    1.0     28.0\n",
            "     2.0     72.0\n",
            "     3.0     54.0\n",
            "     4.0     44.0\n",
            "     5.0     49.0\n",
            "Name: respiratory rate, dtype: float64\n"
          ]
        }
      ]
    },
    {
      "cell_type": "markdown",
      "source": [
        "Сранение статистик:"
      ],
      "metadata": {
        "id": "oSlaqC284v_x"
      }
    },
    {
      "cell_type": "code",
      "source": [
        "df_filter.describe()"
      ],
      "metadata": {
        "colab": {
          "base_uri": "https://localhost:8080/",
          "height": 300
        },
        "id": "KrEQ23R34s5x",
        "outputId": "eff7b963-2a76-4b4f-860d-1a89b70c2af5"
      },
      "execution_count": null,
      "outputs": [
        {
          "output_type": "execute_result",
          "data": {
            "text/plain": [
              "          surgery         Age  rectal temperature       pulse  \\\n",
              "count  299.000000  300.000000          240.000000  276.000000   \n",
              "mean     1.397993    1.080000           38.167917   71.913043   \n",
              "std      0.490305    0.271746            0.732289   28.630557   \n",
              "min      1.000000    1.000000           35.400000   30.000000   \n",
              "25%      1.000000    1.000000           37.800000   48.000000   \n",
              "50%      1.000000    1.000000           38.200000   64.000000   \n",
              "75%      2.000000    1.000000           38.500000   88.000000   \n",
              "max      2.000000    2.000000           40.800000  184.000000   \n",
              "\n",
              "       respiratory rate  temperature of extremities       pain     outcome  \n",
              "count        242.000000                  244.000000  245.00000  299.000000  \n",
              "mean          30.417355                    2.348361    2.95102    1.551839  \n",
              "std           17.642231                    1.045054    1.30794    0.737187  \n",
              "min            8.000000                    1.000000    1.00000    1.000000  \n",
              "25%           18.500000                    1.000000    2.00000    1.000000  \n",
              "50%           24.500000                    3.000000    3.00000    1.000000  \n",
              "75%           36.000000                    3.000000    4.00000    2.000000  \n",
              "max           96.000000                    4.000000    5.00000    3.000000  "
            ],
            "text/html": [
              "\n",
              "  <div id=\"df-7766fe05-1931-4242-934a-2d235d3df232\">\n",
              "    <div class=\"colab-df-container\">\n",
              "      <div>\n",
              "<style scoped>\n",
              "    .dataframe tbody tr th:only-of-type {\n",
              "        vertical-align: middle;\n",
              "    }\n",
              "\n",
              "    .dataframe tbody tr th {\n",
              "        vertical-align: top;\n",
              "    }\n",
              "\n",
              "    .dataframe thead th {\n",
              "        text-align: right;\n",
              "    }\n",
              "</style>\n",
              "<table border=\"1\" class=\"dataframe\">\n",
              "  <thead>\n",
              "    <tr style=\"text-align: right;\">\n",
              "      <th></th>\n",
              "      <th>surgery</th>\n",
              "      <th>Age</th>\n",
              "      <th>rectal temperature</th>\n",
              "      <th>pulse</th>\n",
              "      <th>respiratory rate</th>\n",
              "      <th>temperature of extremities</th>\n",
              "      <th>pain</th>\n",
              "      <th>outcome</th>\n",
              "    </tr>\n",
              "  </thead>\n",
              "  <tbody>\n",
              "    <tr>\n",
              "      <th>count</th>\n",
              "      <td>299.000000</td>\n",
              "      <td>300.000000</td>\n",
              "      <td>240.000000</td>\n",
              "      <td>276.000000</td>\n",
              "      <td>242.000000</td>\n",
              "      <td>244.000000</td>\n",
              "      <td>245.00000</td>\n",
              "      <td>299.000000</td>\n",
              "    </tr>\n",
              "    <tr>\n",
              "      <th>mean</th>\n",
              "      <td>1.397993</td>\n",
              "      <td>1.080000</td>\n",
              "      <td>38.167917</td>\n",
              "      <td>71.913043</td>\n",
              "      <td>30.417355</td>\n",
              "      <td>2.348361</td>\n",
              "      <td>2.95102</td>\n",
              "      <td>1.551839</td>\n",
              "    </tr>\n",
              "    <tr>\n",
              "      <th>std</th>\n",
              "      <td>0.490305</td>\n",
              "      <td>0.271746</td>\n",
              "      <td>0.732289</td>\n",
              "      <td>28.630557</td>\n",
              "      <td>17.642231</td>\n",
              "      <td>1.045054</td>\n",
              "      <td>1.30794</td>\n",
              "      <td>0.737187</td>\n",
              "    </tr>\n",
              "    <tr>\n",
              "      <th>min</th>\n",
              "      <td>1.000000</td>\n",
              "      <td>1.000000</td>\n",
              "      <td>35.400000</td>\n",
              "      <td>30.000000</td>\n",
              "      <td>8.000000</td>\n",
              "      <td>1.000000</td>\n",
              "      <td>1.00000</td>\n",
              "      <td>1.000000</td>\n",
              "    </tr>\n",
              "    <tr>\n",
              "      <th>25%</th>\n",
              "      <td>1.000000</td>\n",
              "      <td>1.000000</td>\n",
              "      <td>37.800000</td>\n",
              "      <td>48.000000</td>\n",
              "      <td>18.500000</td>\n",
              "      <td>1.000000</td>\n",
              "      <td>2.00000</td>\n",
              "      <td>1.000000</td>\n",
              "    </tr>\n",
              "    <tr>\n",
              "      <th>50%</th>\n",
              "      <td>1.000000</td>\n",
              "      <td>1.000000</td>\n",
              "      <td>38.200000</td>\n",
              "      <td>64.000000</td>\n",
              "      <td>24.500000</td>\n",
              "      <td>3.000000</td>\n",
              "      <td>3.00000</td>\n",
              "      <td>1.000000</td>\n",
              "    </tr>\n",
              "    <tr>\n",
              "      <th>75%</th>\n",
              "      <td>2.000000</td>\n",
              "      <td>1.000000</td>\n",
              "      <td>38.500000</td>\n",
              "      <td>88.000000</td>\n",
              "      <td>36.000000</td>\n",
              "      <td>3.000000</td>\n",
              "      <td>4.00000</td>\n",
              "      <td>2.000000</td>\n",
              "    </tr>\n",
              "    <tr>\n",
              "      <th>max</th>\n",
              "      <td>2.000000</td>\n",
              "      <td>2.000000</td>\n",
              "      <td>40.800000</td>\n",
              "      <td>184.000000</td>\n",
              "      <td>96.000000</td>\n",
              "      <td>4.000000</td>\n",
              "      <td>5.00000</td>\n",
              "      <td>3.000000</td>\n",
              "    </tr>\n",
              "  </tbody>\n",
              "</table>\n",
              "</div>\n",
              "      <button class=\"colab-df-convert\" onclick=\"convertToInteractive('df-7766fe05-1931-4242-934a-2d235d3df232')\"\n",
              "              title=\"Convert this dataframe to an interactive table.\"\n",
              "              style=\"display:none;\">\n",
              "        \n",
              "  <svg xmlns=\"http://www.w3.org/2000/svg\" height=\"24px\"viewBox=\"0 0 24 24\"\n",
              "       width=\"24px\">\n",
              "    <path d=\"M0 0h24v24H0V0z\" fill=\"none\"/>\n",
              "    <path d=\"M18.56 5.44l.94 2.06.94-2.06 2.06-.94-2.06-.94-.94-2.06-.94 2.06-2.06.94zm-11 1L8.5 8.5l.94-2.06 2.06-.94-2.06-.94L8.5 2.5l-.94 2.06-2.06.94zm10 10l.94 2.06.94-2.06 2.06-.94-2.06-.94-.94-2.06-.94 2.06-2.06.94z\"/><path d=\"M17.41 7.96l-1.37-1.37c-.4-.4-.92-.59-1.43-.59-.52 0-1.04.2-1.43.59L10.3 9.45l-7.72 7.72c-.78.78-.78 2.05 0 2.83L4 21.41c.39.39.9.59 1.41.59.51 0 1.02-.2 1.41-.59l7.78-7.78 2.81-2.81c.8-.78.8-2.07 0-2.86zM5.41 20L4 18.59l7.72-7.72 1.47 1.35L5.41 20z\"/>\n",
              "  </svg>\n",
              "      </button>\n",
              "      \n",
              "  <style>\n",
              "    .colab-df-container {\n",
              "      display:flex;\n",
              "      flex-wrap:wrap;\n",
              "      gap: 12px;\n",
              "    }\n",
              "\n",
              "    .colab-df-convert {\n",
              "      background-color: #E8F0FE;\n",
              "      border: none;\n",
              "      border-radius: 50%;\n",
              "      cursor: pointer;\n",
              "      display: none;\n",
              "      fill: #1967D2;\n",
              "      height: 32px;\n",
              "      padding: 0 0 0 0;\n",
              "      width: 32px;\n",
              "    }\n",
              "\n",
              "    .colab-df-convert:hover {\n",
              "      background-color: #E2EBFA;\n",
              "      box-shadow: 0px 1px 2px rgba(60, 64, 67, 0.3), 0px 1px 3px 1px rgba(60, 64, 67, 0.15);\n",
              "      fill: #174EA6;\n",
              "    }\n",
              "\n",
              "    [theme=dark] .colab-df-convert {\n",
              "      background-color: #3B4455;\n",
              "      fill: #D2E3FC;\n",
              "    }\n",
              "\n",
              "    [theme=dark] .colab-df-convert:hover {\n",
              "      background-color: #434B5C;\n",
              "      box-shadow: 0px 1px 3px 1px rgba(0, 0, 0, 0.15);\n",
              "      filter: drop-shadow(0px 1px 2px rgba(0, 0, 0, 0.3));\n",
              "      fill: #FFFFFF;\n",
              "    }\n",
              "  </style>\n",
              "\n",
              "      <script>\n",
              "        const buttonEl =\n",
              "          document.querySelector('#df-7766fe05-1931-4242-934a-2d235d3df232 button.colab-df-convert');\n",
              "        buttonEl.style.display =\n",
              "          google.colab.kernel.accessAllowed ? 'block' : 'none';\n",
              "\n",
              "        async function convertToInteractive(key) {\n",
              "          const element = document.querySelector('#df-7766fe05-1931-4242-934a-2d235d3df232');\n",
              "          const dataTable =\n",
              "            await google.colab.kernel.invokeFunction('convertToInteractive',\n",
              "                                                     [key], {});\n",
              "          if (!dataTable) return;\n",
              "\n",
              "          const docLinkHtml = 'Like what you see? Visit the ' +\n",
              "            '<a target=\"_blank\" href=https://colab.research.google.com/notebooks/data_table.ipynb>data table notebook</a>'\n",
              "            + ' to learn more about interactive tables.';\n",
              "          element.innerHTML = '';\n",
              "          dataTable['output_type'] = 'display_data';\n",
              "          await google.colab.output.renderOutput(dataTable, element);\n",
              "          const docLink = document.createElement('div');\n",
              "          docLink.innerHTML = docLinkHtml;\n",
              "          element.appendChild(docLink);\n",
              "        }\n",
              "      </script>\n",
              "    </div>\n",
              "  </div>\n",
              "  "
            ]
          },
          "metadata": {},
          "execution_count": 612
        }
      ]
    },
    {
      "cell_type": "code",
      "source": [
        "df_group.describe()"
      ],
      "metadata": {
        "colab": {
          "base_uri": "https://localhost:8080/",
          "height": 300
        },
        "id": "yx-_DvxJ47RZ",
        "outputId": "2ac89096-473f-4336-92d0-6bb35d2e90b2"
      },
      "execution_count": null,
      "outputs": [
        {
          "output_type": "execute_result",
          "data": {
            "text/plain": [
              "          surgery         Age  rectal temperature       pulse  \\\n",
              "count  300.000000  300.000000          300.000000  300.000000   \n",
              "mean     1.396667    1.080000           38.177500   71.843333   \n",
              "std      0.490023    0.271746            0.675876   27.776439   \n",
              "min      1.000000    1.000000           35.400000   30.000000   \n",
              "25%      1.000000    1.000000           37.800000   48.000000   \n",
              "50%      1.000000    1.000000           38.100000   64.000000   \n",
              "75%      2.000000    1.000000           38.500000   88.000000   \n",
              "max      2.000000    2.000000           40.800000  184.000000   \n",
              "\n",
              "       respiratory rate  temperature of extremities        pain     outcome  \n",
              "count        300.000000                  300.000000  300.000000  300.000000  \n",
              "mean          29.860000                    2.370000    2.960000    1.550000  \n",
              "std           16.347207                    0.977044    1.181689    0.736642  \n",
              "min            8.000000                    1.000000    1.000000    1.000000  \n",
              "25%           20.000000                    1.000000    2.000000    1.000000  \n",
              "50%           25.500000                    3.000000    3.000000    1.000000  \n",
              "75%           36.000000                    3.000000    4.000000    2.000000  \n",
              "max           96.000000                    4.000000    5.000000    3.000000  "
            ],
            "text/html": [
              "\n",
              "  <div id=\"df-f661b98b-df92-4f45-be7b-2fee201c9a0c\">\n",
              "    <div class=\"colab-df-container\">\n",
              "      <div>\n",
              "<style scoped>\n",
              "    .dataframe tbody tr th:only-of-type {\n",
              "        vertical-align: middle;\n",
              "    }\n",
              "\n",
              "    .dataframe tbody tr th {\n",
              "        vertical-align: top;\n",
              "    }\n",
              "\n",
              "    .dataframe thead th {\n",
              "        text-align: right;\n",
              "    }\n",
              "</style>\n",
              "<table border=\"1\" class=\"dataframe\">\n",
              "  <thead>\n",
              "    <tr style=\"text-align: right;\">\n",
              "      <th></th>\n",
              "      <th>surgery</th>\n",
              "      <th>Age</th>\n",
              "      <th>rectal temperature</th>\n",
              "      <th>pulse</th>\n",
              "      <th>respiratory rate</th>\n",
              "      <th>temperature of extremities</th>\n",
              "      <th>pain</th>\n",
              "      <th>outcome</th>\n",
              "    </tr>\n",
              "  </thead>\n",
              "  <tbody>\n",
              "    <tr>\n",
              "      <th>count</th>\n",
              "      <td>300.000000</td>\n",
              "      <td>300.000000</td>\n",
              "      <td>300.000000</td>\n",
              "      <td>300.000000</td>\n",
              "      <td>300.000000</td>\n",
              "      <td>300.000000</td>\n",
              "      <td>300.000000</td>\n",
              "      <td>300.000000</td>\n",
              "    </tr>\n",
              "    <tr>\n",
              "      <th>mean</th>\n",
              "      <td>1.396667</td>\n",
              "      <td>1.080000</td>\n",
              "      <td>38.177500</td>\n",
              "      <td>71.843333</td>\n",
              "      <td>29.860000</td>\n",
              "      <td>2.370000</td>\n",
              "      <td>2.960000</td>\n",
              "      <td>1.550000</td>\n",
              "    </tr>\n",
              "    <tr>\n",
              "      <th>std</th>\n",
              "      <td>0.490023</td>\n",
              "      <td>0.271746</td>\n",
              "      <td>0.675876</td>\n",
              "      <td>27.776439</td>\n",
              "      <td>16.347207</td>\n",
              "      <td>0.977044</td>\n",
              "      <td>1.181689</td>\n",
              "      <td>0.736642</td>\n",
              "    </tr>\n",
              "    <tr>\n",
              "      <th>min</th>\n",
              "      <td>1.000000</td>\n",
              "      <td>1.000000</td>\n",
              "      <td>35.400000</td>\n",
              "      <td>30.000000</td>\n",
              "      <td>8.000000</td>\n",
              "      <td>1.000000</td>\n",
              "      <td>1.000000</td>\n",
              "      <td>1.000000</td>\n",
              "    </tr>\n",
              "    <tr>\n",
              "      <th>25%</th>\n",
              "      <td>1.000000</td>\n",
              "      <td>1.000000</td>\n",
              "      <td>37.800000</td>\n",
              "      <td>48.000000</td>\n",
              "      <td>20.000000</td>\n",
              "      <td>1.000000</td>\n",
              "      <td>2.000000</td>\n",
              "      <td>1.000000</td>\n",
              "    </tr>\n",
              "    <tr>\n",
              "      <th>50%</th>\n",
              "      <td>1.000000</td>\n",
              "      <td>1.000000</td>\n",
              "      <td>38.100000</td>\n",
              "      <td>64.000000</td>\n",
              "      <td>25.500000</td>\n",
              "      <td>3.000000</td>\n",
              "      <td>3.000000</td>\n",
              "      <td>1.000000</td>\n",
              "    </tr>\n",
              "    <tr>\n",
              "      <th>75%</th>\n",
              "      <td>2.000000</td>\n",
              "      <td>1.000000</td>\n",
              "      <td>38.500000</td>\n",
              "      <td>88.000000</td>\n",
              "      <td>36.000000</td>\n",
              "      <td>3.000000</td>\n",
              "      <td>4.000000</td>\n",
              "      <td>2.000000</td>\n",
              "    </tr>\n",
              "    <tr>\n",
              "      <th>max</th>\n",
              "      <td>2.000000</td>\n",
              "      <td>2.000000</td>\n",
              "      <td>40.800000</td>\n",
              "      <td>184.000000</td>\n",
              "      <td>96.000000</td>\n",
              "      <td>4.000000</td>\n",
              "      <td>5.000000</td>\n",
              "      <td>3.000000</td>\n",
              "    </tr>\n",
              "  </tbody>\n",
              "</table>\n",
              "</div>\n",
              "      <button class=\"colab-df-convert\" onclick=\"convertToInteractive('df-f661b98b-df92-4f45-be7b-2fee201c9a0c')\"\n",
              "              title=\"Convert this dataframe to an interactive table.\"\n",
              "              style=\"display:none;\">\n",
              "        \n",
              "  <svg xmlns=\"http://www.w3.org/2000/svg\" height=\"24px\"viewBox=\"0 0 24 24\"\n",
              "       width=\"24px\">\n",
              "    <path d=\"M0 0h24v24H0V0z\" fill=\"none\"/>\n",
              "    <path d=\"M18.56 5.44l.94 2.06.94-2.06 2.06-.94-2.06-.94-.94-2.06-.94 2.06-2.06.94zm-11 1L8.5 8.5l.94-2.06 2.06-.94-2.06-.94L8.5 2.5l-.94 2.06-2.06.94zm10 10l.94 2.06.94-2.06 2.06-.94-2.06-.94-.94-2.06-.94 2.06-2.06.94z\"/><path d=\"M17.41 7.96l-1.37-1.37c-.4-.4-.92-.59-1.43-.59-.52 0-1.04.2-1.43.59L10.3 9.45l-7.72 7.72c-.78.78-.78 2.05 0 2.83L4 21.41c.39.39.9.59 1.41.59.51 0 1.02-.2 1.41-.59l7.78-7.78 2.81-2.81c.8-.78.8-2.07 0-2.86zM5.41 20L4 18.59l7.72-7.72 1.47 1.35L5.41 20z\"/>\n",
              "  </svg>\n",
              "      </button>\n",
              "      \n",
              "  <style>\n",
              "    .colab-df-container {\n",
              "      display:flex;\n",
              "      flex-wrap:wrap;\n",
              "      gap: 12px;\n",
              "    }\n",
              "\n",
              "    .colab-df-convert {\n",
              "      background-color: #E8F0FE;\n",
              "      border: none;\n",
              "      border-radius: 50%;\n",
              "      cursor: pointer;\n",
              "      display: none;\n",
              "      fill: #1967D2;\n",
              "      height: 32px;\n",
              "      padding: 0 0 0 0;\n",
              "      width: 32px;\n",
              "    }\n",
              "\n",
              "    .colab-df-convert:hover {\n",
              "      background-color: #E2EBFA;\n",
              "      box-shadow: 0px 1px 2px rgba(60, 64, 67, 0.3), 0px 1px 3px 1px rgba(60, 64, 67, 0.15);\n",
              "      fill: #174EA6;\n",
              "    }\n",
              "\n",
              "    [theme=dark] .colab-df-convert {\n",
              "      background-color: #3B4455;\n",
              "      fill: #D2E3FC;\n",
              "    }\n",
              "\n",
              "    [theme=dark] .colab-df-convert:hover {\n",
              "      background-color: #434B5C;\n",
              "      box-shadow: 0px 1px 3px 1px rgba(0, 0, 0, 0.15);\n",
              "      filter: drop-shadow(0px 1px 2px rgba(0, 0, 0, 0.3));\n",
              "      fill: #FFFFFF;\n",
              "    }\n",
              "  </style>\n",
              "\n",
              "      <script>\n",
              "        const buttonEl =\n",
              "          document.querySelector('#df-f661b98b-df92-4f45-be7b-2fee201c9a0c button.colab-df-convert');\n",
              "        buttonEl.style.display =\n",
              "          google.colab.kernel.accessAllowed ? 'block' : 'none';\n",
              "\n",
              "        async function convertToInteractive(key) {\n",
              "          const element = document.querySelector('#df-f661b98b-df92-4f45-be7b-2fee201c9a0c');\n",
              "          const dataTable =\n",
              "            await google.colab.kernel.invokeFunction('convertToInteractive',\n",
              "                                                     [key], {});\n",
              "          if (!dataTable) return;\n",
              "\n",
              "          const docLinkHtml = 'Like what you see? Visit the ' +\n",
              "            '<a target=\"_blank\" href=https://colab.research.google.com/notebooks/data_table.ipynb>data table notebook</a>'\n",
              "            + ' to learn more about interactive tables.';\n",
              "          element.innerHTML = '';\n",
              "          dataTable['output_type'] = 'display_data';\n",
              "          await google.colab.output.renderOutput(dataTable, element);\n",
              "          const docLink = document.createElement('div');\n",
              "          docLink.innerHTML = docLinkHtml;\n",
              "          element.appendChild(docLink);\n",
              "        }\n",
              "      </script>\n",
              "    </div>\n",
              "  </div>\n",
              "  "
            ]
          },
          "metadata": {},
          "execution_count": 613
        }
      ]
    },
    {
      "cell_type": "code",
      "source": [
        "# Моды\n",
        "print('Операция:', df_filter['surgery'].mode()[0])\n",
        "print('Возраст:', df_filter['Age'].mode()[0])\n",
        "print('Ректальная температура:', df_filter['rectal temperature'].mode()[0])\n",
        "print('Пульс:', df_filter['pulse'].mode()[0])\n",
        "print('Частота дыхания:', df_filter['respiratory rate'].mode()[0])\n",
        "print('Температура конечностей:', df_filter['temperature of extremities'].mode()[0])\n",
        "print('Боль:', df_filter['pain'].mode()[0])\n",
        "print('Исход:', df_filter['outcome'].mode()[0])"
      ],
      "metadata": {
        "colab": {
          "base_uri": "https://localhost:8080/"
        },
        "id": "Vs5T2_CC5OLA",
        "outputId": "c57ed10c-3a34-4977-e76a-77994929550d"
      },
      "execution_count": null,
      "outputs": [
        {
          "output_type": "stream",
          "name": "stdout",
          "text": [
            "Операция: 1.0\n",
            "Возраст: 1\n",
            "Ректальная температура: 38.0\n",
            "Пульс: 48.0\n",
            "Частота дыхания: 20.0\n",
            "Температура конечностей: 3.0\n",
            "Боль: 3.0\n",
            "Исход: 1.0\n"
          ]
        }
      ]
    },
    {
      "cell_type": "code",
      "source": [
        "# Моды\n",
        "print('Операция:', df_group['surgery'].mode()[0])\n",
        "print('Возраст:', df_group['Age'].mode()[0])\n",
        "print('Ректальная температура:', df_group['rectal temperature'].mode()[0])\n",
        "print('Пульс:', df_group['pulse'].mode()[0])\n",
        "print('Частота дыхания:', df_group['respiratory rate'].mode()[0])\n",
        "print('Температура конечностей:', df_group['temperature of extremities'].mode()[0])\n",
        "print('Боль:', df_group['pain'].mode()[0])\n",
        "print('Исход:', df_group['outcome'].mode()[0])"
      ],
      "metadata": {
        "colab": {
          "base_uri": "https://localhost:8080/"
        },
        "id": "LoMRqpp75RXy",
        "outputId": "0a11052d-ead7-494c-dcef-892e18c7c4e0"
      },
      "execution_count": null,
      "outputs": [
        {
          "output_type": "stream",
          "name": "stdout",
          "text": [
            "Операция: 1.0\n",
            "Возраст: 1\n",
            "Ректальная температура: 38.1\n",
            "Пульс: 60.0\n",
            "Частота дыхания: 24.0\n",
            "Температура конечностей: 3.0\n",
            "Боль: 3.0\n",
            "Исход: 1.0\n"
          ]
        }
      ]
    },
    {
      "cell_type": "code",
      "source": [
        "# Дисперсии\n",
        "print('Операция:', df_filter['surgery'].var())\n",
        "print('Возраст:', df_filter['Age'].var())\n",
        "print('Ректальная температура:', df_filter['rectal temperature'].var())\n",
        "print('Пульс:', df_filter['pulse'].var())\n",
        "print('Частота дыхания:', df_filter['respiratory rate'].var())\n",
        "print('Температура конечностей:', df_filter['temperature of extremities'].var())\n",
        "print('Боль:', df_filter['pain'].var())\n",
        "print('Исход:', df_filter['outcome'].var())"
      ],
      "metadata": {
        "colab": {
          "base_uri": "https://localhost:8080/"
        },
        "id": "AR4dtdKl5pAC",
        "outputId": "c0f766d8-230d-4c53-e9a0-1ab070afb9f9"
      },
      "execution_count": null,
      "outputs": [
        {
          "output_type": "stream",
          "name": "stdout",
          "text": [
            "Операция: 0.24039864425040958\n",
            "Возраст: 0.07384615384615383\n",
            "Ректальная температура: 0.5362466875871686\n",
            "Пульс: 819.7087747035573\n",
            "Частота дыхания: 311.2483282466308\n",
            "Температура конечностей: 1.0921372191863994\n",
            "Боль: 1.7107059217129477\n",
            "Исход: 0.5434445915916589\n"
          ]
        }
      ]
    },
    {
      "cell_type": "code",
      "source": [
        "# Дисперсии\n",
        "print('Операция:', df_group['surgery'].var())\n",
        "print('Возраст:', df_group['Age'].var())\n",
        "print('Ректальная температура:', df_group['rectal temperature'].var())\n",
        "print('Пульс:', df_group['pulse'].var())\n",
        "print('Частота дыхания:', df_group['respiratory rate'].var())\n",
        "print('Температура конечностей:', df_group['temperature of extremities'].var())\n",
        "print('Боль:', df_group['pain'].var())\n",
        "print('Исход:', df_group['outcome'].var())"
      ],
      "metadata": {
        "colab": {
          "base_uri": "https://localhost:8080/"
        },
        "id": "Jkwx3eUt5plC",
        "outputId": "a4dfe7a2-21eb-4d1e-897f-8f16b395018b"
      },
      "execution_count": null,
      "outputs": [
        {
          "output_type": "stream",
          "name": "stdout",
          "text": [
            "Операция: 0.24012263099219625\n",
            "Возраст: 0.07384615384615383\n",
            "Ректальная температура: 0.45680811036789293\n",
            "Пульс: 771.5305574136007\n",
            "Частота дыхания: 267.2311705685619\n",
            "Температура конечностей: 0.9546153846153846\n",
            "Боль: 1.3963879598662208\n",
            "Исход: 0.5426421404682275\n"
          ]
        }
      ]
    }
  ]
}
